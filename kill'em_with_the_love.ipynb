{
  "nbformat": 4,
  "nbformat_minor": 0,
  "metadata": {
    "colab": {
      "provenance": [],
      "collapsed_sections": [],
      "machine_shape": "hm",
      "mount_file_id": "1Le_7LhZ1uja6VHmllskbEmssEePxhlLj",
      "authorship_tag": "ABX9TyOYsbYZM281p5AxQ3y/BQUm",
      "include_colab_link": true
    },
    "kernelspec": {
      "name": "python3",
      "display_name": "Python 3"
    },
    "language_info": {
      "name": "python"
    },
    "accelerator": "GPU"
  },
  "cells": [
    {
      "cell_type": "markdown",
      "metadata": {
        "id": "view-in-github",
        "colab_type": "text"
      },
      "source": [
        "<a href=\"https://colab.research.google.com/github/kellysolow/titanic_gpt2_fine_tuned/blob/main/kill'em_with_the_love.ipynb\" target=\"_parent\"><img src=\"https://colab.research.google.com/assets/colab-badge.svg\" alt=\"Open In Colab\"/></a>"
      ]
    },
    {
      "cell_type": "code",
      "source": [
        "!pip install transformers"
      ],
      "metadata": {
        "id": "IQ2927oWfDtv",
        "outputId": "0bed2f65-4942-4ed9-a8f4-e8be822d55aa",
        "colab": {
          "base_uri": "https://localhost:8080/"
        }
      },
      "execution_count": null,
      "outputs": [
        {
          "output_type": "stream",
          "name": "stdout",
          "text": [
            "Looking in indexes: https://pypi.org/simple, https://us-python.pkg.dev/colab-wheels/public/simple/\n",
            "Requirement already satisfied: transformers in /usr/local/lib/python3.7/dist-packages (4.22.1)\n",
            "Requirement already satisfied: tqdm>=4.27 in /usr/local/lib/python3.7/dist-packages (from transformers) (4.64.1)\n",
            "Requirement already satisfied: filelock in /usr/local/lib/python3.7/dist-packages (from transformers) (3.8.0)\n",
            "Requirement already satisfied: regex!=2019.12.17 in /usr/local/lib/python3.7/dist-packages (from transformers) (2022.6.2)\n",
            "Requirement already satisfied: requests in /usr/local/lib/python3.7/dist-packages (from transformers) (2.23.0)\n",
            "Requirement already satisfied: importlib-metadata in /usr/local/lib/python3.7/dist-packages (from transformers) (4.12.0)\n",
            "Requirement already satisfied: packaging>=20.0 in /usr/local/lib/python3.7/dist-packages (from transformers) (21.3)\n",
            "Requirement already satisfied: tokenizers!=0.11.3,<0.13,>=0.11.1 in /usr/local/lib/python3.7/dist-packages (from transformers) (0.12.1)\n",
            "Requirement already satisfied: numpy>=1.17 in /usr/local/lib/python3.7/dist-packages (from transformers) (1.21.6)\n",
            "Requirement already satisfied: huggingface-hub<1.0,>=0.9.0 in /usr/local/lib/python3.7/dist-packages (from transformers) (0.9.1)\n",
            "Requirement already satisfied: pyyaml>=5.1 in /usr/local/lib/python3.7/dist-packages (from transformers) (6.0)\n",
            "Requirement already satisfied: typing-extensions>=3.7.4.3 in /usr/local/lib/python3.7/dist-packages (from huggingface-hub<1.0,>=0.9.0->transformers) (4.1.1)\n",
            "Requirement already satisfied: pyparsing!=3.0.5,>=2.0.2 in /usr/local/lib/python3.7/dist-packages (from packaging>=20.0->transformers) (3.0.9)\n",
            "Requirement already satisfied: zipp>=0.5 in /usr/local/lib/python3.7/dist-packages (from importlib-metadata->transformers) (3.8.1)\n",
            "Requirement already satisfied: chardet<4,>=3.0.2 in /usr/local/lib/python3.7/dist-packages (from requests->transformers) (3.0.4)\n",
            "Requirement already satisfied: certifi>=2017.4.17 in /usr/local/lib/python3.7/dist-packages (from requests->transformers) (2022.6.15)\n",
            "Requirement already satisfied: idna<3,>=2.5 in /usr/local/lib/python3.7/dist-packages (from requests->transformers) (2.10)\n",
            "Requirement already satisfied: urllib3!=1.25.0,!=1.25.1,<1.26,>=1.21.1 in /usr/local/lib/python3.7/dist-packages (from requests->transformers) (1.24.3)\n"
          ]
        }
      ]
    },
    {
      "cell_type": "code",
      "source": [
        "from google.colab import drive\n",
        "drive.mount('/content/drive')"
      ],
      "metadata": {
        "colab": {
          "base_uri": "https://localhost:8080/"
        },
        "id": "Nl0PbtIDfHVM",
        "outputId": "dc7a516c-e982-4dfa-b1f0-d882b31d556e"
      },
      "execution_count": null,
      "outputs": [
        {
          "output_type": "stream",
          "name": "stdout",
          "text": [
            "Drive already mounted at /content/drive; to attempt to forcibly remount, call drive.mount(\"/content/drive\", force_remount=True).\n"
          ]
        }
      ]
    },
    {
      "cell_type": "code",
      "execution_count": null,
      "metadata": {
        "id": "jDlPcgjHo1Gn"
      },
      "outputs": [],
      "source": [
        "from transformers import (AutoTokenizer, AutoModelForCausalLM, AdamW, get_scheduler,GPT2Config,\n",
        "                          GPT2ForSequenceClassification, get_cosine_with_hard_restarts_schedule_with_warmup)\n",
        "from torch.utils.data import DataLoader, Dataset, TensorDataset\n",
        "from sklearn.metrics import accuracy_score\n",
        "from tqdm import tqdm\n",
        "from datetime import date, timedelta\n",
        "\n",
        "import torch\n",
        "import os\n",
        "import math\n",
        "import pandas as pd\n",
        "import numpy as np\n",
        "import re\n",
        "import datetime as dt\n",
        "import random\n",
        "import matplotlib.pyplot as plt\n",
        "import logging\n",
        "import datetime as dt"
      ]
    },
    {
      "cell_type": "code",
      "source": [
        "class Config:\n",
        "  epochs = 200\n",
        "  learning_rate = 0.026\n",
        "  eps = 1e-8\n",
        "  weight_decay = 0\n",
        "  batch_size = 8\n",
        "  cycles = 9\n",
        "def seed_everything(seed):\n",
        "  torch.manual_seed(seed)\n",
        "  torch.cuda.manual_seed(seed)\n",
        "  torch.cuda.manual_seed_all(seed)\n",
        "  torch.backends.cudnn.deterministic = True\n",
        "  torch.backends.cudnn.benchmark = False\n",
        "  np.random.seed(seed)\n",
        "  random.seed(seed)\n",
        "\n",
        "args = Config()\n",
        "seed_everything(69)\n",
        "\n",
        "maxlength = 40\n",
        "pclass = 'seat class'\n",
        "sibsp = 'with sibling'\n",
        "parch = 'parents onboard'\n",
        "cabin = 'cabin number'\n",
        "embarked = 'embarked port'\n",
        "path = './drive/MyDrive/kaggle/titanic'\n",
        "today = date.today()\n",
        "\n",
        "device = torch.device(\"cuda:0\" if torch.cuda.is_available() else \"cpu\")\n",
        "print(\"using device : \", device)"
      ],
      "metadata": {
        "colab": {
          "base_uri": "https://localhost:8080/"
        },
        "id": "4vPNzxZ8iYP9",
        "outputId": "f909922a-b038-43de-ff11-90cf337e195c"
      },
      "execution_count": null,
      "outputs": [
        {
          "output_type": "stream",
          "name": "stdout",
          "text": [
            "using device :  cuda:0\n"
          ]
        }
      ]
    },
    {
      "cell_type": "code",
      "source": [
        "logger = logging.getLogger()\n",
        "logger.setLevel(logging.INFO)\n",
        "formatter = logging.Formatter('%(asctime)s - %(name)s - %(levelname)s - %(message)s')\n",
        "\n",
        "stream_handler = logging.StreamHandler()\n",
        "stream_handler.setFormatter(formatter)\n",
        "logger.addHandler(stream_handler)\n",
        "\n",
        "file_handler = logging.FileHandler(f'{path}/log/gpt2.log')\n",
        "file_handler.setFormatter(formatter)\n",
        "logger.addHandler(file_handler)"
      ],
      "metadata": {
        "id": "Dz8IoKo6wKsJ"
      },
      "execution_count": null,
      "outputs": []
    },
    {
      "cell_type": "code",
      "source": [
        "tokenizer = AutoTokenizer.from_pretrained(\"gpt2\")\n",
        "tokenizer.padding_side = 'left'\n",
        "tokenizer.pad_token = tokenizer.eos_token"
      ],
      "metadata": {
        "id": "BBzwGFHOi-Co"
      },
      "execution_count": null,
      "outputs": []
    },
    {
      "cell_type": "code",
      "source": [
        "df = pd.read_csv(f\"{path}/train.csv\")\n",
        "df"
      ],
      "metadata": {
        "id": "P0aUWIidCQCG",
        "colab": {
          "base_uri": "https://localhost:8080/",
          "height": 424
        },
        "outputId": "34e68df7-76dc-471d-90b4-ac36b973ce04"
      },
      "execution_count": null,
      "outputs": [
        {
          "output_type": "execute_result",
          "data": {
            "text/plain": [
              "     PassengerId  Survived  Pclass  \\\n",
              "0              1         0       3   \n",
              "1              2         1       1   \n",
              "2              3         1       3   \n",
              "3              4         1       1   \n",
              "4              5         0       3   \n",
              "..           ...       ...     ...   \n",
              "886          887         0       2   \n",
              "887          888         1       1   \n",
              "888          889         0       3   \n",
              "889          890         1       1   \n",
              "890          891         0       3   \n",
              "\n",
              "                                                  Name     Sex   Age  SibSp  \\\n",
              "0                              Braund, Mr. Owen Harris    male  22.0      1   \n",
              "1    Cumings, Mrs. John Bradley (Florence Briggs Th...  female  38.0      1   \n",
              "2                               Heikkinen, Miss. Laina  female  26.0      0   \n",
              "3         Futrelle, Mrs. Jacques Heath (Lily May Peel)  female  35.0      1   \n",
              "4                             Allen, Mr. William Henry    male  35.0      0   \n",
              "..                                                 ...     ...   ...    ...   \n",
              "886                              Montvila, Rev. Juozas    male  27.0      0   \n",
              "887                       Graham, Miss. Margaret Edith  female  19.0      0   \n",
              "888           Johnston, Miss. Catherine Helen \"Carrie\"  female   NaN      1   \n",
              "889                              Behr, Mr. Karl Howell    male  26.0      0   \n",
              "890                                Dooley, Mr. Patrick    male  32.0      0   \n",
              "\n",
              "     Parch            Ticket     Fare Cabin Embarked  \n",
              "0        0         A/5 21171   7.2500   NaN        S  \n",
              "1        0          PC 17599  71.2833   C85        C  \n",
              "2        0  STON/O2. 3101282   7.9250   NaN        S  \n",
              "3        0            113803  53.1000  C123        S  \n",
              "4        0            373450   8.0500   NaN        S  \n",
              "..     ...               ...      ...   ...      ...  \n",
              "886      0            211536  13.0000   NaN        S  \n",
              "887      0            112053  30.0000   B42        S  \n",
              "888      2        W./C. 6607  23.4500   NaN        S  \n",
              "889      0            111369  30.0000  C148        C  \n",
              "890      0            370376   7.7500   NaN        Q  \n",
              "\n",
              "[891 rows x 12 columns]"
            ],
            "text/html": [
              "\n",
              "  <div id=\"df-a11cc696-25f0-4d22-b752-7101e51360c5\">\n",
              "    <div class=\"colab-df-container\">\n",
              "      <div>\n",
              "<style scoped>\n",
              "    .dataframe tbody tr th:only-of-type {\n",
              "        vertical-align: middle;\n",
              "    }\n",
              "\n",
              "    .dataframe tbody tr th {\n",
              "        vertical-align: top;\n",
              "    }\n",
              "\n",
              "    .dataframe thead th {\n",
              "        text-align: right;\n",
              "    }\n",
              "</style>\n",
              "<table border=\"1\" class=\"dataframe\">\n",
              "  <thead>\n",
              "    <tr style=\"text-align: right;\">\n",
              "      <th></th>\n",
              "      <th>PassengerId</th>\n",
              "      <th>Survived</th>\n",
              "      <th>Pclass</th>\n",
              "      <th>Name</th>\n",
              "      <th>Sex</th>\n",
              "      <th>Age</th>\n",
              "      <th>SibSp</th>\n",
              "      <th>Parch</th>\n",
              "      <th>Ticket</th>\n",
              "      <th>Fare</th>\n",
              "      <th>Cabin</th>\n",
              "      <th>Embarked</th>\n",
              "    </tr>\n",
              "  </thead>\n",
              "  <tbody>\n",
              "    <tr>\n",
              "      <th>0</th>\n",
              "      <td>1</td>\n",
              "      <td>0</td>\n",
              "      <td>3</td>\n",
              "      <td>Braund, Mr. Owen Harris</td>\n",
              "      <td>male</td>\n",
              "      <td>22.0</td>\n",
              "      <td>1</td>\n",
              "      <td>0</td>\n",
              "      <td>A/5 21171</td>\n",
              "      <td>7.2500</td>\n",
              "      <td>NaN</td>\n",
              "      <td>S</td>\n",
              "    </tr>\n",
              "    <tr>\n",
              "      <th>1</th>\n",
              "      <td>2</td>\n",
              "      <td>1</td>\n",
              "      <td>1</td>\n",
              "      <td>Cumings, Mrs. John Bradley (Florence Briggs Th...</td>\n",
              "      <td>female</td>\n",
              "      <td>38.0</td>\n",
              "      <td>1</td>\n",
              "      <td>0</td>\n",
              "      <td>PC 17599</td>\n",
              "      <td>71.2833</td>\n",
              "      <td>C85</td>\n",
              "      <td>C</td>\n",
              "    </tr>\n",
              "    <tr>\n",
              "      <th>2</th>\n",
              "      <td>3</td>\n",
              "      <td>1</td>\n",
              "      <td>3</td>\n",
              "      <td>Heikkinen, Miss. Laina</td>\n",
              "      <td>female</td>\n",
              "      <td>26.0</td>\n",
              "      <td>0</td>\n",
              "      <td>0</td>\n",
              "      <td>STON/O2. 3101282</td>\n",
              "      <td>7.9250</td>\n",
              "      <td>NaN</td>\n",
              "      <td>S</td>\n",
              "    </tr>\n",
              "    <tr>\n",
              "      <th>3</th>\n",
              "      <td>4</td>\n",
              "      <td>1</td>\n",
              "      <td>1</td>\n",
              "      <td>Futrelle, Mrs. Jacques Heath (Lily May Peel)</td>\n",
              "      <td>female</td>\n",
              "      <td>35.0</td>\n",
              "      <td>1</td>\n",
              "      <td>0</td>\n",
              "      <td>113803</td>\n",
              "      <td>53.1000</td>\n",
              "      <td>C123</td>\n",
              "      <td>S</td>\n",
              "    </tr>\n",
              "    <tr>\n",
              "      <th>4</th>\n",
              "      <td>5</td>\n",
              "      <td>0</td>\n",
              "      <td>3</td>\n",
              "      <td>Allen, Mr. William Henry</td>\n",
              "      <td>male</td>\n",
              "      <td>35.0</td>\n",
              "      <td>0</td>\n",
              "      <td>0</td>\n",
              "      <td>373450</td>\n",
              "      <td>8.0500</td>\n",
              "      <td>NaN</td>\n",
              "      <td>S</td>\n",
              "    </tr>\n",
              "    <tr>\n",
              "      <th>...</th>\n",
              "      <td>...</td>\n",
              "      <td>...</td>\n",
              "      <td>...</td>\n",
              "      <td>...</td>\n",
              "      <td>...</td>\n",
              "      <td>...</td>\n",
              "      <td>...</td>\n",
              "      <td>...</td>\n",
              "      <td>...</td>\n",
              "      <td>...</td>\n",
              "      <td>...</td>\n",
              "      <td>...</td>\n",
              "    </tr>\n",
              "    <tr>\n",
              "      <th>886</th>\n",
              "      <td>887</td>\n",
              "      <td>0</td>\n",
              "      <td>2</td>\n",
              "      <td>Montvila, Rev. Juozas</td>\n",
              "      <td>male</td>\n",
              "      <td>27.0</td>\n",
              "      <td>0</td>\n",
              "      <td>0</td>\n",
              "      <td>211536</td>\n",
              "      <td>13.0000</td>\n",
              "      <td>NaN</td>\n",
              "      <td>S</td>\n",
              "    </tr>\n",
              "    <tr>\n",
              "      <th>887</th>\n",
              "      <td>888</td>\n",
              "      <td>1</td>\n",
              "      <td>1</td>\n",
              "      <td>Graham, Miss. Margaret Edith</td>\n",
              "      <td>female</td>\n",
              "      <td>19.0</td>\n",
              "      <td>0</td>\n",
              "      <td>0</td>\n",
              "      <td>112053</td>\n",
              "      <td>30.0000</td>\n",
              "      <td>B42</td>\n",
              "      <td>S</td>\n",
              "    </tr>\n",
              "    <tr>\n",
              "      <th>888</th>\n",
              "      <td>889</td>\n",
              "      <td>0</td>\n",
              "      <td>3</td>\n",
              "      <td>Johnston, Miss. Catherine Helen \"Carrie\"</td>\n",
              "      <td>female</td>\n",
              "      <td>NaN</td>\n",
              "      <td>1</td>\n",
              "      <td>2</td>\n",
              "      <td>W./C. 6607</td>\n",
              "      <td>23.4500</td>\n",
              "      <td>NaN</td>\n",
              "      <td>S</td>\n",
              "    </tr>\n",
              "    <tr>\n",
              "      <th>889</th>\n",
              "      <td>890</td>\n",
              "      <td>1</td>\n",
              "      <td>1</td>\n",
              "      <td>Behr, Mr. Karl Howell</td>\n",
              "      <td>male</td>\n",
              "      <td>26.0</td>\n",
              "      <td>0</td>\n",
              "      <td>0</td>\n",
              "      <td>111369</td>\n",
              "      <td>30.0000</td>\n",
              "      <td>C148</td>\n",
              "      <td>C</td>\n",
              "    </tr>\n",
              "    <tr>\n",
              "      <th>890</th>\n",
              "      <td>891</td>\n",
              "      <td>0</td>\n",
              "      <td>3</td>\n",
              "      <td>Dooley, Mr. Patrick</td>\n",
              "      <td>male</td>\n",
              "      <td>32.0</td>\n",
              "      <td>0</td>\n",
              "      <td>0</td>\n",
              "      <td>370376</td>\n",
              "      <td>7.7500</td>\n",
              "      <td>NaN</td>\n",
              "      <td>Q</td>\n",
              "    </tr>\n",
              "  </tbody>\n",
              "</table>\n",
              "<p>891 rows × 12 columns</p>\n",
              "</div>\n",
              "      <button class=\"colab-df-convert\" onclick=\"convertToInteractive('df-a11cc696-25f0-4d22-b752-7101e51360c5')\"\n",
              "              title=\"Convert this dataframe to an interactive table.\"\n",
              "              style=\"display:none;\">\n",
              "        \n",
              "  <svg xmlns=\"http://www.w3.org/2000/svg\" height=\"24px\"viewBox=\"0 0 24 24\"\n",
              "       width=\"24px\">\n",
              "    <path d=\"M0 0h24v24H0V0z\" fill=\"none\"/>\n",
              "    <path d=\"M18.56 5.44l.94 2.06.94-2.06 2.06-.94-2.06-.94-.94-2.06-.94 2.06-2.06.94zm-11 1L8.5 8.5l.94-2.06 2.06-.94-2.06-.94L8.5 2.5l-.94 2.06-2.06.94zm10 10l.94 2.06.94-2.06 2.06-.94-2.06-.94-.94-2.06-.94 2.06-2.06.94z\"/><path d=\"M17.41 7.96l-1.37-1.37c-.4-.4-.92-.59-1.43-.59-.52 0-1.04.2-1.43.59L10.3 9.45l-7.72 7.72c-.78.78-.78 2.05 0 2.83L4 21.41c.39.39.9.59 1.41.59.51 0 1.02-.2 1.41-.59l7.78-7.78 2.81-2.81c.8-.78.8-2.07 0-2.86zM5.41 20L4 18.59l7.72-7.72 1.47 1.35L5.41 20z\"/>\n",
              "  </svg>\n",
              "      </button>\n",
              "      \n",
              "  <style>\n",
              "    .colab-df-container {\n",
              "      display:flex;\n",
              "      flex-wrap:wrap;\n",
              "      gap: 12px;\n",
              "    }\n",
              "\n",
              "    .colab-df-convert {\n",
              "      background-color: #E8F0FE;\n",
              "      border: none;\n",
              "      border-radius: 50%;\n",
              "      cursor: pointer;\n",
              "      display: none;\n",
              "      fill: #1967D2;\n",
              "      height: 32px;\n",
              "      padding: 0 0 0 0;\n",
              "      width: 32px;\n",
              "    }\n",
              "\n",
              "    .colab-df-convert:hover {\n",
              "      background-color: #E2EBFA;\n",
              "      box-shadow: 0px 1px 2px rgba(60, 64, 67, 0.3), 0px 1px 3px 1px rgba(60, 64, 67, 0.15);\n",
              "      fill: #174EA6;\n",
              "    }\n",
              "\n",
              "    [theme=dark] .colab-df-convert {\n",
              "      background-color: #3B4455;\n",
              "      fill: #D2E3FC;\n",
              "    }\n",
              "\n",
              "    [theme=dark] .colab-df-convert:hover {\n",
              "      background-color: #434B5C;\n",
              "      box-shadow: 0px 1px 3px 1px rgba(0, 0, 0, 0.15);\n",
              "      filter: drop-shadow(0px 1px 2px rgba(0, 0, 0, 0.3));\n",
              "      fill: #FFFFFF;\n",
              "    }\n",
              "  </style>\n",
              "\n",
              "      <script>\n",
              "        const buttonEl =\n",
              "          document.querySelector('#df-a11cc696-25f0-4d22-b752-7101e51360c5 button.colab-df-convert');\n",
              "        buttonEl.style.display =\n",
              "          google.colab.kernel.accessAllowed ? 'block' : 'none';\n",
              "\n",
              "        async function convertToInteractive(key) {\n",
              "          const element = document.querySelector('#df-a11cc696-25f0-4d22-b752-7101e51360c5');\n",
              "          const dataTable =\n",
              "            await google.colab.kernel.invokeFunction('convertToInteractive',\n",
              "                                                     [key], {});\n",
              "          if (!dataTable) return;\n",
              "\n",
              "          const docLinkHtml = 'Like what you see? Visit the ' +\n",
              "            '<a target=\"_blank\" href=https://colab.research.google.com/notebooks/data_table.ipynb>data table notebook</a>'\n",
              "            + ' to learn more about interactive tables.';\n",
              "          element.innerHTML = '';\n",
              "          dataTable['output_type'] = 'display_data';\n",
              "          await google.colab.output.renderOutput(dataTable, element);\n",
              "          const docLink = document.createElement('div');\n",
              "          docLink.innerHTML = docLinkHtml;\n",
              "          element.appendChild(docLink);\n",
              "        }\n",
              "      </script>\n",
              "    </div>\n",
              "  </div>\n",
              "  "
            ]
          },
          "metadata": {},
          "execution_count": 7
        }
      ]
    },
    {
      "cell_type": "code",
      "source": [
        "#PClass   94\n",
        "# SibSp     95\n",
        "# Parch     96\n",
        "# Cabin  97\n",
        "# Embarked 98\n",
        "# Survived 99\n",
        "\n"
      ],
      "metadata": {
        "id": "iTNS-Q6Y5DoK"
      },
      "execution_count": null,
      "outputs": []
    },
    {
      "cell_type": "code",
      "source": [
        "class titanicDataset(Dataset):\n",
        "  def __init__(self, use_tokenizer):\n",
        "    self.dfInput = []\n",
        "    self.dfOutput = []\n",
        "    for i in range(len(df['Name'])):\n",
        "      # txt = (pclass+ str(df[\"Pclass\"][i])+\"name\" + str(df['Name'][i]) +\"sex\"+ str(df['Sex'][i])+\"age\" + str(df['Age'][i]) + sibsp+ str(df[\"SibSp\"][i])+ parch \n",
        "      #  +str(df[\"Parch\"][i])+ \"ticket\" + str(df['Ticket'][i])+\"fare\"+ str(df['Fare'][i])+cabin+ str(df[\"Cabin\"][i])+embarked+ str(df[\"Embarked\"][i]))\n",
        "      txt = (pclass+ str(df[\"Pclass\"][i])+\"sex\"+ str(df['Sex'][i])+\"age\" + str(df['Age'][i]) + sibsp+ str(df[\"SibSp\"][i])+ parch \n",
        "       +str(df[\"Parch\"][i])+ \"ticket\" + str(df['Ticket'][i])+\"fare\"+ str(df['Fare'][i])+cabin+ str(df[\"Cabin\"][i])+embarked+ str(df[\"Embarked\"][i]))\n",
        "      self.dfInput.append(txt)\n",
        "    for i in df['Survived']:\n",
        "      self.dfOutput.append(i)\n",
        "\n",
        "    self.n_examples = len(self.dfOutput)\n",
        "\n",
        "    return\n",
        "\n",
        "  def __len__(self):\n",
        "    return self.n_examples\n",
        "\n",
        "  def __getitem__(self,item):\n",
        "    return {'text': self.dfInput[item], 'label': self.dfOutput[item]}\n",
        "\n",
        "dataDictionary = titanicDataset(use_tokenizer = tokenizer)"
      ],
      "metadata": {
        "id": "VNGwjrxHCWce"
      },
      "execution_count": null,
      "outputs": []
    },
    {
      "cell_type": "code",
      "source": [
        "intent2id = {}\n",
        "intent2id.update({\"died\":0})\n",
        "intent2id.update({\"alive\":1})\n"
      ],
      "metadata": {
        "id": "R-Hxd_qSESYI"
      },
      "execution_count": null,
      "outputs": []
    },
    {
      "cell_type": "code",
      "source": [
        "class Gpt2ClassificationCollator(object):\n",
        "  def __init__(self, use_tokenizer, labels_encoder, max_sequence_len=None):\n",
        "    self.use_tokenizer = use_tokenizer\n",
        "    self.max_sequence_len = use_tokenizer.model_max_length if max_sequence_len is None else max_sequence_len\n",
        "    self.labels_encoder = labels_encoder\n",
        "\n",
        "  def __call__(self, sequences):\n",
        "    texts = [sequence['text'] for sequence in sequences]\n",
        "    labels = [sequence['label'] for sequence in sequences]\n",
        "    #labels = [self.labels_encoder[label] for label in labels]\n",
        "\n",
        "    inputs = self.use_tokenizer(text = texts, return_tensors=\"pt\", max_length = self.max_sequence_len, padding = 'max_length', truncation=True).to(device)\n",
        "    inputs.update({'labels':torch.tensor(labels)})\n",
        "\n",
        "    return inputs"
      ],
      "metadata": {
        "id": "rUgmc5LBEaMI"
      },
      "execution_count": null,
      "outputs": []
    },
    {
      "cell_type": "code",
      "source": [
        "collator = Gpt2ClassificationCollator(use_tokenizer = tokenizer, labels_encoder = intent2id, max_sequence_len = maxlength,)\n",
        "dataloader = DataLoader (dataDictionary , batch_size = args.batch_size, collate_fn =collator, shuffle = True)"
      ],
      "metadata": {
        "id": "8JQRE7YUFMDL"
      },
      "execution_count": null,
      "outputs": []
    },
    {
      "cell_type": "code",
      "source": [
        "#model_config = GPT2Config.from_pretrained('gpt2', num_labels = 2)\n",
        "\n",
        "model = GPT2ForSequenceClassification.from_pretrained(\"gpt2\", num_labels = 2)\n",
        "model.resize_token_embeddings(len(tokenizer))\n",
        "model.config.pad_token_id = model.config.eos_token_id\n",
        "model.to(device)\n",
        "print(\"model loaded\")"
      ],
      "metadata": {
        "colab": {
          "base_uri": "https://localhost:8080/"
        },
        "id": "jjJwdWjElcjd",
        "outputId": "4aa04a69-e5b5-4b0b-fc90-b3c2b0d5b82d"
      },
      "execution_count": null,
      "outputs": [
        {
          "output_type": "stream",
          "name": "stderr",
          "text": [
            "Some weights of GPT2ForSequenceClassification were not initialized from the model checkpoint at gpt2 and are newly initialized: ['score.weight']\n",
            "You should probably TRAIN this model on a down-stream task to be able to use it for predictions and inference.\n"
          ]
        },
        {
          "output_type": "stream",
          "name": "stdout",
          "text": [
            "model loaded\n"
          ]
        }
      ]
    },
    {
      "cell_type": "code",
      "source": [
        "torch.nn.init.kaiming_uniform_(model.score.weight)"
      ],
      "metadata": {
        "colab": {
          "base_uri": "https://localhost:8080/"
        },
        "id": "fSakdEYXn74E",
        "outputId": "42fbd72d-3356-4007-8077-1e0fa7fe765c"
      },
      "execution_count": null,
      "outputs": [
        {
          "output_type": "execute_result",
          "data": {
            "text/plain": [
              "Parameter containing:\n",
              "tensor([[-0.0443, -0.0625,  0.0187,  ..., -0.0548,  0.0346, -0.0025],\n",
              "        [ 0.0882,  0.0105,  0.0693,  ...,  0.0338, -0.0367, -0.0698]],\n",
              "       device='cuda:0', requires_grad=True)"
            ]
          },
          "metadata": {},
          "execution_count": 14
        }
      ]
    },
    {
      "cell_type": "code",
      "source": [
        "optimizer_grouped_parameters = [\n",
        "    {\n",
        "        \"params\" : [p for n, p in model.named_parameters()],\n",
        "        \"weight_decay\" : args.weight_decay,\n",
        "    }\n",
        "]\n",
        "\n",
        "optimizer = AdamW(optimizer_grouped_parameters, lr = args.learning_rate)\n",
        "\n",
        "cosineannealing_scheduler = get_cosine_with_hard_restarts_schedule_with_warmup(\n",
        "    optimizer = optimizer,\n",
        "    num_warmup_steps = len(dataloader)*args.epochs/10,\n",
        "    num_training_steps = len(dataloader)*args.epochs,\n",
        "    num_cycles= args.cycles\n",
        ")"
      ],
      "metadata": {
        "id": "-RlAgaCeoGM5",
        "colab": {
          "base_uri": "https://localhost:8080/"
        },
        "outputId": "fef5fe46-4ccf-4566-8260-69b9f81865c8"
      },
      "execution_count": null,
      "outputs": [
        {
          "output_type": "stream",
          "name": "stderr",
          "text": [
            "/usr/local/lib/python3.7/dist-packages/transformers/optimization.py:310: FutureWarning: This implementation of AdamW is deprecated and will be removed in a future version. Use the PyTorch implementation torch.optim.AdamW instead, or set `no_deprecation_warning=True` to disable this warning\n",
            "  FutureWarning,\n"
          ]
        }
      ]
    },
    {
      "cell_type": "code",
      "source": [
        "def train (dataloader, optimizer_, scheduler_, device_):\n",
        "  global model\n",
        "  predictions_labels = []\n",
        "  true_labels = []\n",
        "  total_loss = 0\n",
        "\n",
        "  model.train()\n",
        "\n",
        "  for batch in tqdm(dataloader, total = len(dataloader)):\n",
        "    true_labels += batch['labels'].numpy().flatten().tolist()\n",
        "\n",
        "    batch = {k:v.type(torch.long).to(device_) for k,v in batch.items()}\n",
        "\n",
        "    model.zero_grad()\n",
        "\n",
        "    outputs = model(**batch)\n",
        "\n",
        "    loss = outputs.loss\n",
        "    logits = outputs.logits\n",
        "\n",
        "    loss.backward()\n",
        "\n",
        "    total_loss += loss.item()\n",
        "\n",
        "    torch.nn.utils.clip_grad_norm_(model.parameters(),1.0)\n",
        "    optimizer_.step()\n",
        "    scheduler_.step()\n",
        "\n",
        "    logits = logits.detach().cpu().numpy()\n",
        "    predictions_labels += logits.argmax(axis=-1).flatten().tolist()\n",
        "  \n",
        "  logger.info(\"current lr\")\n",
        "  logger.info(scheduler_.get_last_lr())\n",
        "\n",
        "\n",
        "\n",
        "  avg_epoch_loss = total_loss/len(dataloader)\n",
        "\n",
        "  return true_labels, predictions_labels, avg_epoch_loss\n",
        "\n"
      ],
      "metadata": {
        "id": "mxf4E3b8FqnZ"
      },
      "execution_count": null,
      "outputs": []
    },
    {
      "cell_type": "code",
      "source": [
        "for epoch in range(args.epochs):\n",
        "  print(f'training on batchs .. {epoch}/{args.epochs}')\n",
        "\n",
        "  train_labels, train_predict, train_loss = train(dataloader, optimizer, cosineannealing_scheduler, device)\n",
        "  train_acc = accuracy_score(train_labels, train_predict)\n",
        "\n",
        "  logger.info(\"train_loss: %.5f - train_acc:%.5f\" %(train_loss, train_acc))\n",
        "\n",
        "  plt.ylim(0,1)\n",
        "  plt.plot(epoch, train_acc,'or')\n",
        "  plt.xlabel('epoch')\n",
        "  plt.ylabel('acc')\n",
        "\n",
        "plt.show()\n",
        "plt.savefig(f'{path}/log/plot.png')\n",
        "\n",
        "torch.save(model.state_dict(), f'{path}/model/titanic{today}_dict')\n",
        "print(\"model save done\")"
      ],
      "metadata": {
        "id": "VZpRdCH7IzIS",
        "colab": {
          "base_uri": "https://localhost:8080/",
          "height": 1000
        },
        "outputId": "2a9ac33b-8ab1-4041-be13-7df56e0093e9"
      },
      "execution_count": null,
      "outputs": [
        {
          "output_type": "stream",
          "name": "stdout",
          "text": [
            "training on batchs .. 0/200\n"
          ]
        },
        {
          "output_type": "stream",
          "name": "stderr",
          "text": [
            "100%|██████████| 112/112 [00:11<00:00,  9.92it/s]\n",
            "INFO:root:current lr\n",
            "2022-09-22 00:05:14,100 - root - INFO - current lr\n",
            "INFO:root:[0.0013]\n",
            "2022-09-22 00:05:14,105 - root - INFO - [0.0013]\n",
            "INFO:root:train_loss: 0.99913 - train_acc:0.57239\n",
            "2022-09-22 00:05:14,118 - root - INFO - train_loss: 0.99913 - train_acc:0.57239\n"
          ]
        },
        {
          "output_type": "stream",
          "name": "stdout",
          "text": [
            "training on batchs .. 1/200\n"
          ]
        },
        {
          "output_type": "stream",
          "name": "stderr",
          "text": [
            "100%|██████████| 112/112 [00:09<00:00, 12.18it/s]\n",
            "INFO:root:current lr\n",
            "2022-09-22 00:05:23,346 - root - INFO - current lr\n",
            "INFO:root:[0.0026]\n",
            "2022-09-22 00:05:23,349 - root - INFO - [0.0026]\n",
            "INFO:root:train_loss: 0.68204 - train_acc:0.64085\n",
            "2022-09-22 00:05:23,358 - root - INFO - train_loss: 0.68204 - train_acc:0.64085\n"
          ]
        },
        {
          "output_type": "stream",
          "name": "stdout",
          "text": [
            "training on batchs .. 2/200\n"
          ]
        },
        {
          "output_type": "stream",
          "name": "stderr",
          "text": [
            "100%|██████████| 112/112 [00:09<00:00, 12.15it/s]\n",
            "INFO:root:current lr\n",
            "2022-09-22 00:05:32,596 - root - INFO - current lr\n",
            "INFO:root:[0.0039]\n",
            "2022-09-22 00:05:32,601 - root - INFO - [0.0039]\n",
            "INFO:root:train_loss: 0.64010 - train_acc:0.69248\n",
            "2022-09-22 00:05:32,610 - root - INFO - train_loss: 0.64010 - train_acc:0.69248\n"
          ]
        },
        {
          "output_type": "stream",
          "name": "stdout",
          "text": [
            "training on batchs .. 3/200\n"
          ]
        },
        {
          "output_type": "stream",
          "name": "stderr",
          "text": [
            "100%|██████████| 112/112 [00:09<00:00, 12.10it/s]\n",
            "INFO:root:current lr\n",
            "2022-09-22 00:05:41,885 - root - INFO - current lr\n",
            "INFO:root:[0.0052]\n",
            "2022-09-22 00:05:41,889 - root - INFO - [0.0052]\n",
            "INFO:root:train_loss: 0.62568 - train_acc:0.73850\n",
            "2022-09-22 00:05:41,900 - root - INFO - train_loss: 0.62568 - train_acc:0.73850\n"
          ]
        },
        {
          "output_type": "stream",
          "name": "stdout",
          "text": [
            "training on batchs .. 4/200\n"
          ]
        },
        {
          "output_type": "stream",
          "name": "stderr",
          "text": [
            "100%|██████████| 112/112 [00:09<00:00, 11.39it/s]\n",
            "INFO:root:current lr\n",
            "2022-09-22 00:05:51,747 - root - INFO - current lr\n",
            "INFO:root:[0.0065]\n",
            "2022-09-22 00:05:51,752 - root - INFO - [0.0065]\n",
            "INFO:root:train_loss: 0.67393 - train_acc:0.71044\n",
            "2022-09-22 00:05:51,761 - root - INFO - train_loss: 0.67393 - train_acc:0.71044\n"
          ]
        },
        {
          "output_type": "stream",
          "name": "stdout",
          "text": [
            "training on batchs .. 5/200\n"
          ]
        },
        {
          "output_type": "stream",
          "name": "stderr",
          "text": [
            "100%|██████████| 112/112 [00:09<00:00, 12.14it/s]\n",
            "INFO:root:current lr\n",
            "2022-09-22 00:06:01,000 - root - INFO - current lr\n",
            "INFO:root:[0.0078]\n",
            "2022-09-22 00:06:01,005 - root - INFO - [0.0078]\n",
            "INFO:root:train_loss: 0.69484 - train_acc:0.67789\n",
            "2022-09-22 00:06:01,015 - root - INFO - train_loss: 0.69484 - train_acc:0.67789\n"
          ]
        },
        {
          "output_type": "stream",
          "name": "stdout",
          "text": [
            "training on batchs .. 6/200\n"
          ]
        },
        {
          "output_type": "stream",
          "name": "stderr",
          "text": [
            "100%|██████████| 112/112 [00:09<00:00, 12.22it/s]\n",
            "INFO:root:current lr\n",
            "2022-09-22 00:06:10,191 - root - INFO - current lr\n",
            "INFO:root:[0.009099999999999999]\n",
            "2022-09-22 00:06:10,194 - root - INFO - [0.009099999999999999]\n",
            "INFO:root:train_loss: 0.64839 - train_acc:0.71156\n",
            "2022-09-22 00:06:10,205 - root - INFO - train_loss: 0.64839 - train_acc:0.71156\n"
          ]
        },
        {
          "output_type": "stream",
          "name": "stdout",
          "text": [
            "training on batchs .. 7/200\n"
          ]
        },
        {
          "output_type": "stream",
          "name": "stderr",
          "text": [
            "100%|██████████| 112/112 [00:09<00:00, 12.09it/s]\n",
            "INFO:root:current lr\n",
            "2022-09-22 00:06:19,480 - root - INFO - current lr\n",
            "INFO:root:[0.0104]\n",
            "2022-09-22 00:06:19,485 - root - INFO - [0.0104]\n",
            "INFO:root:train_loss: 0.88429 - train_acc:0.62963\n",
            "2022-09-22 00:06:19,497 - root - INFO - train_loss: 0.88429 - train_acc:0.62963\n"
          ]
        },
        {
          "output_type": "stream",
          "name": "stdout",
          "text": [
            "training on batchs .. 8/200\n"
          ]
        },
        {
          "output_type": "stream",
          "name": "stderr",
          "text": [
            "100%|██████████| 112/112 [00:09<00:00, 12.13it/s]\n",
            "INFO:root:current lr\n",
            "2022-09-22 00:06:28,744 - root - INFO - current lr\n",
            "INFO:root:[0.0117]\n",
            "2022-09-22 00:06:28,747 - root - INFO - [0.0117]\n",
            "INFO:root:train_loss: 0.68922 - train_acc:0.67003\n",
            "2022-09-22 00:06:28,754 - root - INFO - train_loss: 0.68922 - train_acc:0.67003\n"
          ]
        },
        {
          "output_type": "stream",
          "name": "stdout",
          "text": [
            "training on batchs .. 9/200\n"
          ]
        },
        {
          "output_type": "stream",
          "name": "stderr",
          "text": [
            "100%|██████████| 112/112 [00:09<00:00, 12.04it/s]\n",
            "INFO:root:current lr\n",
            "2022-09-22 00:06:38,071 - root - INFO - current lr\n",
            "INFO:root:[0.013]\n",
            "2022-09-22 00:06:38,078 - root - INFO - [0.013]\n",
            "INFO:root:train_loss: 0.72250 - train_acc:0.64310\n",
            "2022-09-22 00:06:38,084 - root - INFO - train_loss: 0.72250 - train_acc:0.64310\n"
          ]
        },
        {
          "output_type": "stream",
          "name": "stdout",
          "text": [
            "training on batchs .. 10/200\n"
          ]
        },
        {
          "output_type": "stream",
          "name": "stderr",
          "text": [
            "100%|██████████| 112/112 [00:09<00:00, 12.12it/s]\n",
            "INFO:root:current lr\n",
            "2022-09-22 00:06:47,345 - root - INFO - current lr\n",
            "INFO:root:[0.0143]\n",
            "2022-09-22 00:06:47,349 - root - INFO - [0.0143]\n",
            "INFO:root:train_loss: 0.86642 - train_acc:0.58586\n",
            "2022-09-22 00:06:47,359 - root - INFO - train_loss: 0.86642 - train_acc:0.58586\n"
          ]
        },
        {
          "output_type": "stream",
          "name": "stdout",
          "text": [
            "training on batchs .. 11/200\n"
          ]
        },
        {
          "output_type": "stream",
          "name": "stderr",
          "text": [
            "100%|██████████| 112/112 [00:09<00:00, 12.20it/s]\n",
            "INFO:root:current lr\n",
            "2022-09-22 00:06:56,557 - root - INFO - current lr\n",
            "INFO:root:[0.0156]\n",
            "2022-09-22 00:06:56,561 - root - INFO - [0.0156]\n",
            "INFO:root:train_loss: 0.82883 - train_acc:0.58586\n",
            "2022-09-22 00:06:56,570 - root - INFO - train_loss: 0.82883 - train_acc:0.58586\n"
          ]
        },
        {
          "output_type": "stream",
          "name": "stdout",
          "text": [
            "training on batchs .. 12/200\n"
          ]
        },
        {
          "output_type": "stream",
          "name": "stderr",
          "text": [
            "100%|██████████| 112/112 [00:09<00:00, 12.25it/s]\n",
            "INFO:root:current lr\n",
            "2022-09-22 00:07:05,728 - root - INFO - current lr\n",
            "INFO:root:[0.0169]\n",
            "2022-09-22 00:07:05,732 - root - INFO - [0.0169]\n",
            "INFO:root:train_loss: 0.73685 - train_acc:0.60606\n",
            "2022-09-22 00:07:05,738 - root - INFO - train_loss: 0.73685 - train_acc:0.60606\n"
          ]
        },
        {
          "output_type": "stream",
          "name": "stdout",
          "text": [
            "training on batchs .. 13/200\n"
          ]
        },
        {
          "output_type": "stream",
          "name": "stderr",
          "text": [
            "100%|██████████| 112/112 [00:09<00:00, 12.05it/s]\n",
            "INFO:root:current lr\n",
            "2022-09-22 00:07:15,049 - root - INFO - current lr\n",
            "INFO:root:[0.018199999999999997]\n",
            "2022-09-22 00:07:15,055 - root - INFO - [0.018199999999999997]\n",
            "INFO:root:train_loss: 0.62591 - train_acc:0.69921\n",
            "2022-09-22 00:07:15,065 - root - INFO - train_loss: 0.62591 - train_acc:0.69921\n"
          ]
        },
        {
          "output_type": "stream",
          "name": "stdout",
          "text": [
            "training on batchs .. 14/200\n"
          ]
        },
        {
          "output_type": "stream",
          "name": "stderr",
          "text": [
            "100%|██████████| 112/112 [00:09<00:00, 12.19it/s]\n",
            "INFO:root:current lr\n",
            "2022-09-22 00:07:24,263 - root - INFO - current lr\n",
            "INFO:root:[0.0195]\n",
            "2022-09-22 00:07:24,267 - root - INFO - [0.0195]\n",
            "INFO:root:train_loss: 0.68828 - train_acc:0.69921\n",
            "2022-09-22 00:07:24,276 - root - INFO - train_loss: 0.68828 - train_acc:0.69921\n"
          ]
        },
        {
          "output_type": "stream",
          "name": "stdout",
          "text": [
            "training on batchs .. 15/200\n"
          ]
        },
        {
          "output_type": "stream",
          "name": "stderr",
          "text": [
            "100%|██████████| 112/112 [00:09<00:00, 12.11it/s]\n",
            "INFO:root:current lr\n",
            "2022-09-22 00:07:33,537 - root - INFO - current lr\n",
            "INFO:root:[0.0208]\n",
            "2022-09-22 00:07:33,544 - root - INFO - [0.0208]\n",
            "INFO:root:train_loss: 0.64148 - train_acc:0.71605\n",
            "2022-09-22 00:07:33,555 - root - INFO - train_loss: 0.64148 - train_acc:0.71605\n"
          ]
        },
        {
          "output_type": "stream",
          "name": "stdout",
          "text": [
            "training on batchs .. 16/200\n"
          ]
        },
        {
          "output_type": "stream",
          "name": "stderr",
          "text": [
            "100%|██████████| 112/112 [00:09<00:00, 12.11it/s]\n",
            "INFO:root:current lr\n",
            "2022-09-22 00:07:42,816 - root - INFO - current lr\n",
            "INFO:root:[0.022099999999999998]\n",
            "2022-09-22 00:07:42,820 - root - INFO - [0.022099999999999998]\n",
            "INFO:root:train_loss: 0.68167 - train_acc:0.72503\n",
            "2022-09-22 00:07:42,831 - root - INFO - train_loss: 0.68167 - train_acc:0.72503\n"
          ]
        },
        {
          "output_type": "stream",
          "name": "stdout",
          "text": [
            "training on batchs .. 17/200\n"
          ]
        },
        {
          "output_type": "stream",
          "name": "stderr",
          "text": [
            "100%|██████████| 112/112 [00:09<00:00, 12.12it/s]\n",
            "INFO:root:current lr\n",
            "2022-09-22 00:07:52,083 - root - INFO - current lr\n",
            "INFO:root:[0.0234]\n",
            "2022-09-22 00:07:52,087 - root - INFO - [0.0234]\n",
            "INFO:root:train_loss: 0.65558 - train_acc:0.68126\n",
            "2022-09-22 00:07:52,097 - root - INFO - train_loss: 0.65558 - train_acc:0.68126\n"
          ]
        },
        {
          "output_type": "stream",
          "name": "stdout",
          "text": [
            "training on batchs .. 18/200\n"
          ]
        },
        {
          "output_type": "stream",
          "name": "stderr",
          "text": [
            "100%|██████████| 112/112 [00:09<00:00, 12.27it/s]\n",
            "INFO:root:current lr\n",
            "2022-09-22 00:08:01,240 - root - INFO - current lr\n",
            "INFO:root:[0.024699999999999996]\n",
            "2022-09-22 00:08:01,243 - root - INFO - [0.024699999999999996]\n",
            "INFO:root:train_loss: 0.57412 - train_acc:0.73401\n",
            "2022-09-22 00:08:01,253 - root - INFO - train_loss: 0.57412 - train_acc:0.73401\n"
          ]
        },
        {
          "output_type": "stream",
          "name": "stdout",
          "text": [
            "training on batchs .. 19/200\n"
          ]
        },
        {
          "output_type": "stream",
          "name": "stderr",
          "text": [
            "100%|██████████| 112/112 [00:09<00:00, 12.20it/s]\n",
            "INFO:root:current lr\n",
            "2022-09-22 00:08:10,451 - root - INFO - current lr\n",
            "INFO:root:[0.026]\n",
            "2022-09-22 00:08:10,458 - root - INFO - [0.026]\n",
            "INFO:root:train_loss: 0.58311 - train_acc:0.75982\n",
            "2022-09-22 00:08:10,468 - root - INFO - train_loss: 0.58311 - train_acc:0.75982\n"
          ]
        },
        {
          "output_type": "stream",
          "name": "stdout",
          "text": [
            "training on batchs .. 20/200\n"
          ]
        },
        {
          "output_type": "stream",
          "name": "stderr",
          "text": [
            "100%|██████████| 112/112 [00:09<00:00, 12.13it/s]\n",
            "INFO:root:current lr\n",
            "2022-09-22 00:08:19,715 - root - INFO - current lr\n",
            "INFO:root:[0.02583994842773679]\n",
            "2022-09-22 00:08:19,721 - root - INFO - [0.02583994842773679]\n",
            "INFO:root:train_loss: 0.55787 - train_acc:0.74747\n",
            "2022-09-22 00:08:19,729 - root - INFO - train_loss: 0.55787 - train_acc:0.74747\n"
          ]
        },
        {
          "output_type": "stream",
          "name": "stdout",
          "text": [
            "training on batchs .. 21/200\n"
          ]
        },
        {
          "output_type": "stream",
          "name": "stderr",
          "text": [
            "100%|██████████| 112/112 [00:09<00:00, 12.27it/s]\n",
            "INFO:root:current lr\n",
            "2022-09-22 00:08:28,869 - root - INFO - current lr\n",
            "INFO:root:[0.025363734711836994]\n",
            "2022-09-22 00:08:28,873 - root - INFO - [0.025363734711836994]\n",
            "INFO:root:train_loss: 0.50620 - train_acc:0.78451\n",
            "2022-09-22 00:08:28,884 - root - INFO - train_loss: 0.50620 - train_acc:0.78451\n"
          ]
        },
        {
          "output_type": "stream",
          "name": "stdout",
          "text": [
            "training on batchs .. 22/200\n"
          ]
        },
        {
          "output_type": "stream",
          "name": "stderr",
          "text": [
            "100%|██████████| 112/112 [00:09<00:00, 12.23it/s]\n",
            "INFO:root:current lr\n",
            "2022-09-22 00:08:38,058 - root - INFO - current lr\n",
            "INFO:root:[0.02458308481444878]\n",
            "2022-09-22 00:08:38,062 - root - INFO - [0.02458308481444878]\n",
            "INFO:root:train_loss: 0.52589 - train_acc:0.79574\n",
            "2022-09-22 00:08:38,071 - root - INFO - train_loss: 0.52589 - train_acc:0.79574\n"
          ]
        },
        {
          "output_type": "stream",
          "name": "stdout",
          "text": [
            "training on batchs .. 23/200\n"
          ]
        },
        {
          "output_type": "stream",
          "name": "stderr",
          "text": [
            "100%|██████████| 112/112 [00:09<00:00, 12.05it/s]\n",
            "INFO:root:current lr\n",
            "2022-09-22 00:08:47,377 - root - INFO - current lr\n",
            "INFO:root:[0.023517220926874315]\n",
            "2022-09-22 00:08:47,381 - root - INFO - [0.023517220926874315]\n",
            "INFO:root:train_loss: 0.49063 - train_acc:0.80471\n",
            "2022-09-22 00:08:47,393 - root - INFO - train_loss: 0.49063 - train_acc:0.80471\n"
          ]
        },
        {
          "output_type": "stream",
          "name": "stdout",
          "text": [
            "training on batchs .. 24/200\n"
          ]
        },
        {
          "output_type": "stream",
          "name": "stderr",
          "text": [
            "100%|██████████| 112/112 [00:09<00:00, 12.25it/s]\n",
            "INFO:root:current lr\n",
            "2022-09-22 00:08:56,553 - root - INFO - current lr\n",
            "INFO:root:[0.022192388155425118]\n",
            "2022-09-22 00:08:56,557 - root - INFO - [0.022192388155425118]\n",
            "INFO:root:train_loss: 0.49127 - train_acc:0.81930\n",
            "2022-09-22 00:08:56,569 - root - INFO - train_loss: 0.49127 - train_acc:0.81930\n"
          ]
        },
        {
          "output_type": "stream",
          "name": "stdout",
          "text": [
            "training on batchs .. 25/200\n"
          ]
        },
        {
          "output_type": "stream",
          "name": "stderr",
          "text": [
            "100%|██████████| 112/112 [00:09<00:00, 12.22it/s]\n",
            "INFO:root:current lr\n",
            "2022-09-22 00:09:05,748 - root - INFO - current lr\n",
            "INFO:root:[0.02064120827980215]\n",
            "2022-09-22 00:09:05,753 - root - INFO - [0.02064120827980215]\n",
            "INFO:root:train_loss: 0.45506 - train_acc:0.81145\n",
            "2022-09-22 00:09:05,763 - root - INFO - train_loss: 0.45506 - train_acc:0.81145\n"
          ]
        },
        {
          "output_type": "stream",
          "name": "stdout",
          "text": [
            "training on batchs .. 26/200\n"
          ]
        },
        {
          "output_type": "stream",
          "name": "stderr",
          "text": [
            "100%|██████████| 112/112 [00:09<00:00, 12.19it/s]\n",
            "INFO:root:current lr\n",
            "2022-09-22 00:09:14,966 - root - INFO - current lr\n",
            "INFO:root:[0.018901876496614105]\n",
            "2022-09-22 00:09:14,971 - root - INFO - [0.018901876496614105]\n",
            "INFO:root:train_loss: 0.40614 - train_acc:0.84287\n",
            "2022-09-22 00:09:14,983 - root - INFO - train_loss: 0.40614 - train_acc:0.84287\n"
          ]
        },
        {
          "output_type": "stream",
          "name": "stdout",
          "text": [
            "training on batchs .. 27/200\n"
          ]
        },
        {
          "output_type": "stream",
          "name": "stderr",
          "text": [
            "100%|██████████| 112/112 [00:09<00:00, 12.27it/s]\n",
            "INFO:root:current lr\n",
            "2022-09-22 00:09:24,127 - root - INFO - current lr\n",
            "INFO:root:[0.017017220926874316]\n",
            "2022-09-22 00:09:24,131 - root - INFO - [0.017017220926874316]\n",
            "INFO:root:train_loss: 0.38856 - train_acc:0.84961\n",
            "2022-09-22 00:09:24,142 - root - INFO - train_loss: 0.38856 - train_acc:0.84961\n"
          ]
        },
        {
          "output_type": "stream",
          "name": "stdout",
          "text": [
            "training on batchs .. 28/200\n"
          ]
        },
        {
          "output_type": "stream",
          "name": "stderr",
          "text": [
            "100%|██████████| 112/112 [00:09<00:00, 12.25it/s]\n",
            "INFO:root:current lr\n",
            "2022-09-22 00:09:33,300 - root - INFO - current lr\n",
            "INFO:root:[0.015033648045523002]\n",
            "2022-09-22 00:09:33,304 - root - INFO - [0.015033648045523002]\n",
            "INFO:root:train_loss: 0.39367 - train_acc:0.82716\n",
            "2022-09-22 00:09:33,309 - root - INFO - train_loss: 0.39367 - train_acc:0.82716\n"
          ]
        },
        {
          "output_type": "stream",
          "name": "stdout",
          "text": [
            "training on batchs .. 29/200\n"
          ]
        },
        {
          "output_type": "stream",
          "name": "stderr",
          "text": [
            "100%|██████████| 112/112 [00:09<00:00, 12.29it/s]\n",
            "INFO:root:current lr\n",
            "2022-09-22 00:09:42,443 - root - INFO - current lr\n",
            "INFO:root:[0.013]\n",
            "2022-09-22 00:09:42,447 - root - INFO - [0.013]\n",
            "INFO:root:train_loss: 0.36442 - train_acc:0.85073\n",
            "2022-09-22 00:09:42,456 - root - INFO - train_loss: 0.36442 - train_acc:0.85073\n"
          ]
        },
        {
          "output_type": "stream",
          "name": "stdout",
          "text": [
            "training on batchs .. 30/200\n"
          ]
        },
        {
          "output_type": "stream",
          "name": "stderr",
          "text": [
            "100%|██████████| 112/112 [00:09<00:00, 12.15it/s]\n",
            "INFO:root:current lr\n",
            "2022-09-22 00:09:51,688 - root - INFO - current lr\n",
            "INFO:root:[0.010966351954477002]\n",
            "2022-09-22 00:09:51,692 - root - INFO - [0.010966351954477002]\n",
            "INFO:root:train_loss: 0.37712 - train_acc:0.84848\n",
            "2022-09-22 00:09:51,700 - root - INFO - train_loss: 0.37712 - train_acc:0.84848\n"
          ]
        },
        {
          "output_type": "stream",
          "name": "stdout",
          "text": [
            "training on batchs .. 31/200\n"
          ]
        },
        {
          "output_type": "stream",
          "name": "stderr",
          "text": [
            "100%|██████████| 112/112 [00:09<00:00, 12.05it/s]\n",
            "INFO:root:current lr\n",
            "2022-09-22 00:10:01,010 - root - INFO - current lr\n",
            "INFO:root:[0.008982779073125684]\n",
            "2022-09-22 00:10:01,013 - root - INFO - [0.008982779073125684]\n",
            "INFO:root:train_loss: 0.35268 - train_acc:0.86644\n",
            "2022-09-22 00:10:01,024 - root - INFO - train_loss: 0.35268 - train_acc:0.86644\n"
          ]
        },
        {
          "output_type": "stream",
          "name": "stdout",
          "text": [
            "training on batchs .. 32/200\n"
          ]
        },
        {
          "output_type": "stream",
          "name": "stderr",
          "text": [
            "100%|██████████| 112/112 [00:09<00:00, 12.20it/s]\n",
            "INFO:root:current lr\n",
            "2022-09-22 00:10:10,222 - root - INFO - current lr\n",
            "INFO:root:[0.007098123503385898]\n",
            "2022-09-22 00:10:10,226 - root - INFO - [0.007098123503385898]\n",
            "INFO:root:train_loss: 0.35212 - train_acc:0.85634\n",
            "2022-09-22 00:10:10,235 - root - INFO - train_loss: 0.35212 - train_acc:0.85634\n"
          ]
        },
        {
          "output_type": "stream",
          "name": "stdout",
          "text": [
            "training on batchs .. 33/200\n"
          ]
        },
        {
          "output_type": "stream",
          "name": "stderr",
          "text": [
            "100%|██████████| 112/112 [00:09<00:00, 12.22it/s]\n",
            "INFO:root:current lr\n",
            "2022-09-22 00:10:19,414 - root - INFO - current lr\n",
            "INFO:root:[0.00535879172019785]\n",
            "2022-09-22 00:10:19,421 - root - INFO - [0.00535879172019785]\n",
            "INFO:root:train_loss: 0.32644 - train_acc:0.86981\n",
            "2022-09-22 00:10:19,428 - root - INFO - train_loss: 0.32644 - train_acc:0.86981\n"
          ]
        },
        {
          "output_type": "stream",
          "name": "stdout",
          "text": [
            "training on batchs .. 34/200\n"
          ]
        },
        {
          "output_type": "stream",
          "name": "stderr",
          "text": [
            "100%|██████████| 112/112 [00:09<00:00, 12.24it/s]\n",
            "INFO:root:current lr\n",
            "2022-09-22 00:10:28,599 - root - INFO - current lr\n",
            "INFO:root:[0.003807611844574883]\n",
            "2022-09-22 00:10:28,603 - root - INFO - [0.003807611844574883]\n",
            "INFO:root:train_loss: 0.31890 - train_acc:0.86420\n",
            "2022-09-22 00:10:28,609 - root - INFO - train_loss: 0.31890 - train_acc:0.86420\n"
          ]
        },
        {
          "output_type": "stream",
          "name": "stdout",
          "text": [
            "training on batchs .. 35/200\n"
          ]
        },
        {
          "output_type": "stream",
          "name": "stderr",
          "text": [
            "100%|██████████| 112/112 [00:09<00:00, 12.21it/s]\n",
            "INFO:root:current lr\n",
            "2022-09-22 00:10:37,800 - root - INFO - current lr\n",
            "INFO:root:[0.0024827790731256844]\n",
            "2022-09-22 00:10:37,804 - root - INFO - [0.0024827790731256844]\n",
            "INFO:root:train_loss: 0.30772 - train_acc:0.87991\n",
            "2022-09-22 00:10:37,815 - root - INFO - train_loss: 0.30772 - train_acc:0.87991\n"
          ]
        },
        {
          "output_type": "stream",
          "name": "stdout",
          "text": [
            "training on batchs .. 36/200\n"
          ]
        },
        {
          "output_type": "stream",
          "name": "stderr",
          "text": [
            "100%|██████████| 112/112 [00:09<00:00, 12.19it/s]\n",
            "INFO:root:current lr\n",
            "2022-09-22 00:10:47,019 - root - INFO - current lr\n",
            "INFO:root:[0.0014169151855512186]\n",
            "2022-09-22 00:10:47,024 - root - INFO - [0.0014169151855512186]\n",
            "INFO:root:train_loss: 0.30737 - train_acc:0.88103\n",
            "2022-09-22 00:10:47,036 - root - INFO - train_loss: 0.30737 - train_acc:0.88103\n"
          ]
        },
        {
          "output_type": "stream",
          "name": "stdout",
          "text": [
            "training on batchs .. 37/200\n"
          ]
        },
        {
          "output_type": "stream",
          "name": "stderr",
          "text": [
            "100%|██████████| 112/112 [00:09<00:00, 11.94it/s]\n",
            "INFO:root:current lr\n",
            "2022-09-22 00:10:56,432 - root - INFO - current lr\n",
            "INFO:root:[0.0006362652881630041]\n",
            "2022-09-22 00:10:56,436 - root - INFO - [0.0006362652881630041]\n",
            "INFO:root:train_loss: 0.30078 - train_acc:0.87205\n",
            "2022-09-22 00:10:56,445 - root - INFO - train_loss: 0.30078 - train_acc:0.87205\n"
          ]
        },
        {
          "output_type": "stream",
          "name": "stdout",
          "text": [
            "training on batchs .. 38/200\n"
          ]
        },
        {
          "output_type": "stream",
          "name": "stderr",
          "text": [
            "100%|██████████| 112/112 [00:09<00:00, 12.11it/s]\n",
            "INFO:root:current lr\n",
            "2022-09-22 00:11:05,716 - root - INFO - current lr\n",
            "INFO:root:[0.00016005157226321043]\n",
            "2022-09-22 00:11:05,720 - root - INFO - [0.00016005157226321043]\n",
            "INFO:root:train_loss: 0.29404 - train_acc:0.87430\n",
            "2022-09-22 00:11:05,730 - root - INFO - train_loss: 0.29404 - train_acc:0.87430\n"
          ]
        },
        {
          "output_type": "stream",
          "name": "stdout",
          "text": [
            "training on batchs .. 39/200\n"
          ]
        },
        {
          "output_type": "stream",
          "name": "stderr",
          "text": [
            "100%|██████████| 112/112 [00:09<00:00, 12.22it/s]\n",
            "INFO:root:current lr\n",
            "2022-09-22 00:11:14,908 - root - INFO - current lr\n",
            "INFO:root:[0.026]\n",
            "2022-09-22 00:11:14,913 - root - INFO - [0.026]\n",
            "INFO:root:train_loss: 0.29636 - train_acc:0.87767\n",
            "2022-09-22 00:11:14,925 - root - INFO - train_loss: 0.29636 - train_acc:0.87767\n"
          ]
        },
        {
          "output_type": "stream",
          "name": "stdout",
          "text": [
            "training on batchs .. 40/200\n"
          ]
        },
        {
          "output_type": "stream",
          "name": "stderr",
          "text": [
            "100%|██████████| 112/112 [00:09<00:00, 12.26it/s]\n",
            "INFO:root:current lr\n",
            "2022-09-22 00:11:24,071 - root - INFO - current lr\n",
            "INFO:root:[0.02583994842773679]\n",
            "2022-09-22 00:11:24,075 - root - INFO - [0.02583994842773679]\n",
            "INFO:root:train_loss: 0.44311 - train_acc:0.83389\n",
            "2022-09-22 00:11:24,084 - root - INFO - train_loss: 0.44311 - train_acc:0.83389\n"
          ]
        },
        {
          "output_type": "stream",
          "name": "stdout",
          "text": [
            "training on batchs .. 41/200\n"
          ]
        },
        {
          "output_type": "stream",
          "name": "stderr",
          "text": [
            "100%|██████████| 112/112 [00:09<00:00, 12.17it/s]\n",
            "INFO:root:current lr\n",
            "2022-09-22 00:11:33,299 - root - INFO - current lr\n",
            "INFO:root:[0.025363734711836994]\n",
            "2022-09-22 00:11:33,302 - root - INFO - [0.025363734711836994]\n",
            "INFO:root:train_loss: 0.48279 - train_acc:0.81818\n",
            "2022-09-22 00:11:33,314 - root - INFO - train_loss: 0.48279 - train_acc:0.81818\n"
          ]
        },
        {
          "output_type": "stream",
          "name": "stdout",
          "text": [
            "training on batchs .. 42/200\n"
          ]
        },
        {
          "output_type": "stream",
          "name": "stderr",
          "text": [
            "100%|██████████| 112/112 [00:09<00:00, 12.26it/s]\n",
            "INFO:root:current lr\n",
            "2022-09-22 00:11:42,465 - root - INFO - current lr\n",
            "INFO:root:[0.024583084814448784]\n",
            "2022-09-22 00:11:42,469 - root - INFO - [0.024583084814448784]\n",
            "INFO:root:train_loss: 0.47002 - train_acc:0.79910\n",
            "2022-09-22 00:11:42,481 - root - INFO - train_loss: 0.47002 - train_acc:0.79910\n"
          ]
        },
        {
          "output_type": "stream",
          "name": "stdout",
          "text": [
            "training on batchs .. 43/200\n"
          ]
        },
        {
          "output_type": "stream",
          "name": "stderr",
          "text": [
            "100%|██████████| 112/112 [00:09<00:00, 12.12it/s]\n",
            "INFO:root:current lr\n",
            "2022-09-22 00:11:51,736 - root - INFO - current lr\n",
            "INFO:root:[0.023517220926874315]\n",
            "2022-09-22 00:11:51,741 - root - INFO - [0.023517220926874315]\n",
            "INFO:root:train_loss: 0.37765 - train_acc:0.84175\n",
            "2022-09-22 00:11:51,753 - root - INFO - train_loss: 0.37765 - train_acc:0.84175\n"
          ]
        },
        {
          "output_type": "stream",
          "name": "stdout",
          "text": [
            "training on batchs .. 44/200\n"
          ]
        },
        {
          "output_type": "stream",
          "name": "stderr",
          "text": [
            "100%|██████████| 112/112 [00:09<00:00, 12.18it/s]\n",
            "INFO:root:current lr\n",
            "2022-09-22 00:12:00,965 - root - INFO - current lr\n",
            "INFO:root:[0.022192388155425118]\n",
            "2022-09-22 00:12:00,969 - root - INFO - [0.022192388155425118]\n",
            "INFO:root:train_loss: 0.35353 - train_acc:0.84848\n",
            "2022-09-22 00:12:00,976 - root - INFO - train_loss: 0.35353 - train_acc:0.84848\n"
          ]
        },
        {
          "output_type": "stream",
          "name": "stdout",
          "text": [
            "training on batchs .. 45/200\n"
          ]
        },
        {
          "output_type": "stream",
          "name": "stderr",
          "text": [
            "100%|██████████| 112/112 [00:09<00:00, 12.23it/s]\n",
            "INFO:root:current lr\n",
            "2022-09-22 00:12:10,148 - root - INFO - current lr\n",
            "INFO:root:[0.020641208279802155]\n",
            "2022-09-22 00:12:10,152 - root - INFO - [0.020641208279802155]\n",
            "INFO:root:train_loss: 0.39656 - train_acc:0.84848\n",
            "2022-09-22 00:12:10,162 - root - INFO - train_loss: 0.39656 - train_acc:0.84848\n"
          ]
        },
        {
          "output_type": "stream",
          "name": "stdout",
          "text": [
            "training on batchs .. 46/200\n"
          ]
        },
        {
          "output_type": "stream",
          "name": "stderr",
          "text": [
            "100%|██████████| 112/112 [00:09<00:00, 12.17it/s]\n",
            "INFO:root:current lr\n",
            "2022-09-22 00:12:19,379 - root - INFO - current lr\n",
            "INFO:root:[0.018901876496614112]\n",
            "2022-09-22 00:12:19,383 - root - INFO - [0.018901876496614112]\n",
            "INFO:root:train_loss: 0.31080 - train_acc:0.87205\n",
            "2022-09-22 00:12:19,392 - root - INFO - train_loss: 0.31080 - train_acc:0.87205\n"
          ]
        },
        {
          "output_type": "stream",
          "name": "stdout",
          "text": [
            "training on batchs .. 47/200\n"
          ]
        },
        {
          "output_type": "stream",
          "name": "stderr",
          "text": [
            "100%|██████████| 112/112 [00:09<00:00, 12.04it/s]\n",
            "INFO:root:current lr\n",
            "2022-09-22 00:12:28,705 - root - INFO - current lr\n",
            "INFO:root:[0.01701722092687432]\n",
            "2022-09-22 00:12:28,712 - root - INFO - [0.01701722092687432]\n",
            "INFO:root:train_loss: 0.33863 - train_acc:0.85971\n",
            "2022-09-22 00:12:28,721 - root - INFO - train_loss: 0.33863 - train_acc:0.85971\n"
          ]
        },
        {
          "output_type": "stream",
          "name": "stdout",
          "text": [
            "training on batchs .. 48/200\n"
          ]
        },
        {
          "output_type": "stream",
          "name": "stderr",
          "text": [
            "100%|██████████| 112/112 [00:09<00:00, 12.18it/s]\n",
            "INFO:root:current lr\n",
            "2022-09-22 00:12:37,930 - root - INFO - current lr\n",
            "INFO:root:[0.015033648045522994]\n",
            "2022-09-22 00:12:37,935 - root - INFO - [0.015033648045522994]\n",
            "INFO:root:train_loss: 0.28476 - train_acc:0.88328\n",
            "2022-09-22 00:12:37,945 - root - INFO - train_loss: 0.28476 - train_acc:0.88328\n"
          ]
        },
        {
          "output_type": "stream",
          "name": "stdout",
          "text": [
            "training on batchs .. 49/200\n"
          ]
        },
        {
          "output_type": "stream",
          "name": "stderr",
          "text": [
            "100%|██████████| 112/112 [00:09<00:00, 12.15it/s]\n",
            "INFO:root:current lr\n",
            "2022-09-22 00:12:47,178 - root - INFO - current lr\n",
            "INFO:root:[0.013]\n",
            "2022-09-22 00:12:47,184 - root - INFO - [0.013]\n",
            "INFO:root:train_loss: 0.28385 - train_acc:0.88328\n",
            "2022-09-22 00:12:47,197 - root - INFO - train_loss: 0.28385 - train_acc:0.88328\n"
          ]
        },
        {
          "output_type": "stream",
          "name": "stdout",
          "text": [
            "training on batchs .. 50/200\n"
          ]
        },
        {
          "output_type": "stream",
          "name": "stderr",
          "text": [
            "100%|██████████| 112/112 [00:09<00:00, 12.21it/s]\n",
            "INFO:root:current lr\n",
            "2022-09-22 00:12:56,381 - root - INFO - current lr\n",
            "INFO:root:[0.010966351954476995]\n",
            "2022-09-22 00:12:56,387 - root - INFO - [0.010966351954476995]\n",
            "INFO:root:train_loss: 0.27669 - train_acc:0.87991\n",
            "2022-09-22 00:12:56,397 - root - INFO - train_loss: 0.27669 - train_acc:0.87991\n"
          ]
        },
        {
          "output_type": "stream",
          "name": "stdout",
          "text": [
            "training on batchs .. 51/200\n"
          ]
        },
        {
          "output_type": "stream",
          "name": "stderr",
          "text": [
            "100%|██████████| 112/112 [00:09<00:00, 12.04it/s]\n",
            "INFO:root:current lr\n",
            "2022-09-22 00:13:05,717 - root - INFO - current lr\n",
            "INFO:root:[0.00898277907312568]\n",
            "2022-09-22 00:13:05,720 - root - INFO - [0.00898277907312568]\n",
            "INFO:root:train_loss: 0.26454 - train_acc:0.87542\n",
            "2022-09-22 00:13:05,730 - root - INFO - train_loss: 0.26454 - train_acc:0.87542\n"
          ]
        },
        {
          "output_type": "stream",
          "name": "stdout",
          "text": [
            "training on batchs .. 52/200\n"
          ]
        },
        {
          "output_type": "stream",
          "name": "stderr",
          "text": [
            "100%|██████████| 112/112 [00:09<00:00, 12.11it/s]\n",
            "INFO:root:current lr\n",
            "2022-09-22 00:13:14,990 - root - INFO - current lr\n",
            "INFO:root:[0.007098123503385898]\n",
            "2022-09-22 00:13:14,998 - root - INFO - [0.007098123503385898]\n",
            "INFO:root:train_loss: 0.25288 - train_acc:0.89001\n",
            "2022-09-22 00:13:15,004 - root - INFO - train_loss: 0.25288 - train_acc:0.89001\n"
          ]
        },
        {
          "output_type": "stream",
          "name": "stdout",
          "text": [
            "training on batchs .. 53/200\n"
          ]
        },
        {
          "output_type": "stream",
          "name": "stderr",
          "text": [
            "100%|██████████| 112/112 [00:09<00:00, 12.18it/s]\n",
            "INFO:root:current lr\n",
            "2022-09-22 00:13:24,215 - root - INFO - current lr\n",
            "INFO:root:[0.00535879172019785]\n",
            "2022-09-22 00:13:24,219 - root - INFO - [0.00535879172019785]\n",
            "INFO:root:train_loss: 0.25213 - train_acc:0.89226\n",
            "2022-09-22 00:13:24,231 - root - INFO - train_loss: 0.25213 - train_acc:0.89226\n"
          ]
        },
        {
          "output_type": "stream",
          "name": "stdout",
          "text": [
            "training on batchs .. 54/200\n"
          ]
        },
        {
          "output_type": "stream",
          "name": "stderr",
          "text": [
            "100%|██████████| 112/112 [00:09<00:00, 12.26it/s]\n",
            "INFO:root:current lr\n",
            "2022-09-22 00:13:33,380 - root - INFO - current lr\n",
            "INFO:root:[0.003807611844574883]\n",
            "2022-09-22 00:13:33,384 - root - INFO - [0.003807611844574883]\n",
            "INFO:root:train_loss: 0.24475 - train_acc:0.89001\n",
            "2022-09-22 00:13:33,395 - root - INFO - train_loss: 0.24475 - train_acc:0.89001\n"
          ]
        },
        {
          "output_type": "stream",
          "name": "stdout",
          "text": [
            "training on batchs .. 55/200\n"
          ]
        },
        {
          "output_type": "stream",
          "name": "stderr",
          "text": [
            "100%|██████████| 112/112 [00:09<00:00, 12.29it/s]\n",
            "INFO:root:current lr\n",
            "2022-09-22 00:13:42,527 - root - INFO - current lr\n",
            "INFO:root:[0.0024827790731256844]\n",
            "2022-09-22 00:13:42,531 - root - INFO - [0.0024827790731256844]\n",
            "INFO:root:train_loss: 0.22927 - train_acc:0.90909\n",
            "2022-09-22 00:13:42,543 - root - INFO - train_loss: 0.22927 - train_acc:0.90909\n"
          ]
        },
        {
          "output_type": "stream",
          "name": "stdout",
          "text": [
            "training on batchs .. 56/200\n"
          ]
        },
        {
          "output_type": "stream",
          "name": "stderr",
          "text": [
            "100%|██████████| 112/112 [00:09<00:00, 12.25it/s]\n",
            "INFO:root:current lr\n",
            "2022-09-22 00:13:51,699 - root - INFO - current lr\n",
            "INFO:root:[0.0014169151855512217]\n",
            "2022-09-22 00:13:51,704 - root - INFO - [0.0014169151855512217]\n",
            "INFO:root:train_loss: 0.21403 - train_acc:0.91695\n",
            "2022-09-22 00:13:51,710 - root - INFO - train_loss: 0.21403 - train_acc:0.91695\n"
          ]
        },
        {
          "output_type": "stream",
          "name": "stdout",
          "text": [
            "training on batchs .. 57/200\n"
          ]
        },
        {
          "output_type": "stream",
          "name": "stderr",
          "text": [
            "100%|██████████| 112/112 [00:09<00:00, 12.19it/s]\n",
            "INFO:root:current lr\n",
            "2022-09-22 00:14:00,911 - root - INFO - current lr\n",
            "INFO:root:[0.0006362652881630055]\n",
            "2022-09-22 00:14:00,917 - root - INFO - [0.0006362652881630055]\n",
            "INFO:root:train_loss: 0.22229 - train_acc:0.90123\n",
            "2022-09-22 00:14:00,931 - root - INFO - train_loss: 0.22229 - train_acc:0.90123\n"
          ]
        },
        {
          "output_type": "stream",
          "name": "stdout",
          "text": [
            "training on batchs .. 58/200\n"
          ]
        },
        {
          "output_type": "stream",
          "name": "stderr",
          "text": [
            "100%|██████████| 112/112 [00:09<00:00, 12.24it/s]\n",
            "INFO:root:current lr\n",
            "2022-09-22 00:14:10,092 - root - INFO - current lr\n",
            "INFO:root:[0.000160051572263209]\n",
            "2022-09-22 00:14:10,096 - root - INFO - [0.000160051572263209]\n",
            "INFO:root:train_loss: 0.21659 - train_acc:0.91021\n",
            "2022-09-22 00:14:10,107 - root - INFO - train_loss: 0.21659 - train_acc:0.91021\n"
          ]
        },
        {
          "output_type": "stream",
          "name": "stdout",
          "text": [
            "training on batchs .. 59/200\n"
          ]
        },
        {
          "output_type": "stream",
          "name": "stderr",
          "text": [
            "100%|██████████| 112/112 [00:09<00:00, 12.17it/s]\n",
            "INFO:root:current lr\n",
            "2022-09-22 00:14:19,324 - root - INFO - current lr\n",
            "INFO:root:[0.026]\n",
            "2022-09-22 00:14:19,329 - root - INFO - [0.026]\n",
            "INFO:root:train_loss: 0.21428 - train_acc:0.91134\n",
            "2022-09-22 00:14:19,338 - root - INFO - train_loss: 0.21428 - train_acc:0.91134\n"
          ]
        },
        {
          "output_type": "stream",
          "name": "stdout",
          "text": [
            "training on batchs .. 60/200\n"
          ]
        },
        {
          "output_type": "stream",
          "name": "stderr",
          "text": [
            "100%|██████████| 112/112 [00:09<00:00, 12.15it/s]\n",
            "INFO:root:current lr\n",
            "2022-09-22 00:14:28,583 - root - INFO - current lr\n",
            "INFO:root:[0.02583994842773679]\n",
            "2022-09-22 00:14:28,589 - root - INFO - [0.02583994842773679]\n",
            "INFO:root:train_loss: 0.43601 - train_acc:0.85522\n",
            "2022-09-22 00:14:28,599 - root - INFO - train_loss: 0.43601 - train_acc:0.85522\n"
          ]
        },
        {
          "output_type": "stream",
          "name": "stdout",
          "text": [
            "training on batchs .. 61/200\n"
          ]
        },
        {
          "output_type": "stream",
          "name": "stderr",
          "text": [
            "100%|██████████| 112/112 [00:09<00:00, 12.22it/s]\n",
            "INFO:root:current lr\n",
            "2022-09-22 00:14:37,778 - root - INFO - current lr\n",
            "INFO:root:[0.025363734711836994]\n",
            "2022-09-22 00:14:37,785 - root - INFO - [0.025363734711836994]\n",
            "INFO:root:train_loss: 0.44967 - train_acc:0.85410\n",
            "2022-09-22 00:14:37,794 - root - INFO - train_loss: 0.44967 - train_acc:0.85410\n"
          ]
        },
        {
          "output_type": "stream",
          "name": "stdout",
          "text": [
            "training on batchs .. 62/200\n"
          ]
        },
        {
          "output_type": "stream",
          "name": "stderr",
          "text": [
            "100%|██████████| 112/112 [00:09<00:00, 12.23it/s]\n",
            "INFO:root:current lr\n",
            "2022-09-22 00:14:46,964 - root - INFO - current lr\n",
            "INFO:root:[0.024583084814448784]\n",
            "2022-09-22 00:14:46,969 - root - INFO - [0.024583084814448784]\n",
            "INFO:root:train_loss: 0.35881 - train_acc:0.86981\n",
            "2022-09-22 00:14:46,979 - root - INFO - train_loss: 0.35881 - train_acc:0.86981\n"
          ]
        },
        {
          "output_type": "stream",
          "name": "stdout",
          "text": [
            "training on batchs .. 63/200\n"
          ]
        },
        {
          "output_type": "stream",
          "name": "stderr",
          "text": [
            "100%|██████████| 112/112 [00:09<00:00, 12.23it/s]\n",
            "INFO:root:current lr\n",
            "2022-09-22 00:14:56,148 - root - INFO - current lr\n",
            "INFO:root:[0.023517220926874322]\n",
            "2022-09-22 00:14:56,151 - root - INFO - [0.023517220926874322]\n",
            "INFO:root:train_loss: 0.44901 - train_acc:0.84624\n",
            "2022-09-22 00:14:56,163 - root - INFO - train_loss: 0.44901 - train_acc:0.84624\n"
          ]
        },
        {
          "output_type": "stream",
          "name": "stdout",
          "text": [
            "training on batchs .. 64/200\n"
          ]
        },
        {
          "output_type": "stream",
          "name": "stderr",
          "text": [
            "100%|██████████| 112/112 [00:09<00:00, 12.23it/s]\n",
            "INFO:root:current lr\n",
            "2022-09-22 00:15:05,334 - root - INFO - current lr\n",
            "INFO:root:[0.022192388155425118]\n",
            "2022-09-22 00:15:05,341 - root - INFO - [0.022192388155425118]\n",
            "INFO:root:train_loss: 0.34087 - train_acc:0.85971\n",
            "2022-09-22 00:15:05,351 - root - INFO - train_loss: 0.34087 - train_acc:0.85971\n"
          ]
        },
        {
          "output_type": "stream",
          "name": "stdout",
          "text": [
            "training on batchs .. 65/200\n"
          ]
        },
        {
          "output_type": "stream",
          "name": "stderr",
          "text": [
            "100%|██████████| 112/112 [00:09<00:00, 12.05it/s]\n",
            "INFO:root:current lr\n",
            "2022-09-22 00:15:14,660 - root - INFO - current lr\n",
            "INFO:root:[0.020641208279802155]\n",
            "2022-09-22 00:15:14,664 - root - INFO - [0.020641208279802155]\n",
            "INFO:root:train_loss: 0.28443 - train_acc:0.89338\n",
            "2022-09-22 00:15:14,673 - root - INFO - train_loss: 0.28443 - train_acc:0.89338\n"
          ]
        },
        {
          "output_type": "stream",
          "name": "stdout",
          "text": [
            "training on batchs .. 66/200\n"
          ]
        },
        {
          "output_type": "stream",
          "name": "stderr",
          "text": [
            "100%|██████████| 112/112 [00:09<00:00, 12.21it/s]\n",
            "INFO:root:current lr\n",
            "2022-09-22 00:15:23,864 - root - INFO - current lr\n",
            "INFO:root:[0.018901876496614105]\n",
            "2022-09-22 00:15:23,870 - root - INFO - [0.018901876496614105]\n",
            "INFO:root:train_loss: 0.30471 - train_acc:0.87654\n",
            "2022-09-22 00:15:23,878 - root - INFO - train_loss: 0.30471 - train_acc:0.87654\n"
          ]
        },
        {
          "output_type": "stream",
          "name": "stdout",
          "text": [
            "training on batchs .. 67/200\n"
          ]
        },
        {
          "output_type": "stream",
          "name": "stderr",
          "text": [
            "100%|██████████| 112/112 [00:09<00:00, 12.26it/s]\n",
            "INFO:root:current lr\n",
            "2022-09-22 00:15:33,029 - root - INFO - current lr\n",
            "INFO:root:[0.01701722092687432]\n",
            "2022-09-22 00:15:33,036 - root - INFO - [0.01701722092687432]\n",
            "INFO:root:train_loss: 0.28162 - train_acc:0.88328\n",
            "2022-09-22 00:15:33,046 - root - INFO - train_loss: 0.28162 - train_acc:0.88328\n"
          ]
        },
        {
          "output_type": "stream",
          "name": "stdout",
          "text": [
            "training on batchs .. 68/200\n"
          ]
        },
        {
          "output_type": "stream",
          "name": "stderr",
          "text": [
            "100%|██████████| 112/112 [00:09<00:00, 12.23it/s]\n",
            "INFO:root:current lr\n",
            "2022-09-22 00:15:42,224 - root - INFO - current lr\n",
            "INFO:root:[0.015033648045523013]\n",
            "2022-09-22 00:15:42,233 - root - INFO - [0.015033648045523013]\n",
            "INFO:root:train_loss: 0.28689 - train_acc:0.88103\n",
            "2022-09-22 00:15:42,240 - root - INFO - train_loss: 0.28689 - train_acc:0.88103\n"
          ]
        },
        {
          "output_type": "stream",
          "name": "stdout",
          "text": [
            "training on batchs .. 69/200\n"
          ]
        },
        {
          "output_type": "stream",
          "name": "stderr",
          "text": [
            "100%|██████████| 112/112 [00:09<00:00, 12.21it/s]\n",
            "INFO:root:current lr\n",
            "2022-09-22 00:15:51,424 - root - INFO - current lr\n",
            "INFO:root:[0.013]\n",
            "2022-09-22 00:15:51,428 - root - INFO - [0.013]\n",
            "INFO:root:train_loss: 0.27286 - train_acc:0.88889\n",
            "2022-09-22 00:15:51,437 - root - INFO - train_loss: 0.27286 - train_acc:0.88889\n"
          ]
        },
        {
          "output_type": "stream",
          "name": "stdout",
          "text": [
            "training on batchs .. 70/200\n"
          ]
        },
        {
          "output_type": "stream",
          "name": "stderr",
          "text": [
            "100%|██████████| 112/112 [00:09<00:00, 12.26it/s]\n",
            "INFO:root:current lr\n",
            "2022-09-22 00:16:00,592 - root - INFO - current lr\n",
            "INFO:root:[0.010966351954477007]\n",
            "2022-09-22 00:16:00,595 - root - INFO - [0.010966351954477007]\n",
            "INFO:root:train_loss: 0.25174 - train_acc:0.90572\n",
            "2022-09-22 00:16:00,604 - root - INFO - train_loss: 0.25174 - train_acc:0.90572\n"
          ]
        },
        {
          "output_type": "stream",
          "name": "stdout",
          "text": [
            "training on batchs .. 71/200\n"
          ]
        },
        {
          "output_type": "stream",
          "name": "stderr",
          "text": [
            "100%|██████████| 112/112 [00:09<00:00, 12.19it/s]\n",
            "INFO:root:current lr\n",
            "2022-09-22 00:16:09,808 - root - INFO - current lr\n",
            "INFO:root:[0.008982779073125698]\n",
            "2022-09-22 00:16:09,812 - root - INFO - [0.008982779073125698]\n",
            "INFO:root:train_loss: 0.24858 - train_acc:0.89338\n",
            "2022-09-22 00:16:09,824 - root - INFO - train_loss: 0.24858 - train_acc:0.89338\n"
          ]
        },
        {
          "output_type": "stream",
          "name": "stdout",
          "text": [
            "training on batchs .. 72/200\n"
          ]
        },
        {
          "output_type": "stream",
          "name": "stderr",
          "text": [
            "100%|██████████| 112/112 [00:09<00:00, 12.19it/s]\n",
            "INFO:root:current lr\n",
            "2022-09-22 00:16:19,022 - root - INFO - current lr\n",
            "INFO:root:[0.007098123503385898]\n",
            "2022-09-22 00:16:19,027 - root - INFO - [0.007098123503385898]\n",
            "INFO:root:train_loss: 0.23879 - train_acc:0.90460\n",
            "2022-09-22 00:16:19,041 - root - INFO - train_loss: 0.23879 - train_acc:0.90460\n"
          ]
        },
        {
          "output_type": "stream",
          "name": "stdout",
          "text": [
            "training on batchs .. 73/200\n"
          ]
        },
        {
          "output_type": "stream",
          "name": "stderr",
          "text": [
            "100%|██████████| 112/112 [00:09<00:00, 12.23it/s]\n",
            "INFO:root:current lr\n",
            "2022-09-22 00:16:28,210 - root - INFO - current lr\n",
            "INFO:root:[0.005358791720197859]\n",
            "2022-09-22 00:16:28,214 - root - INFO - [0.005358791720197859]\n",
            "INFO:root:train_loss: 0.22476 - train_acc:0.91246\n",
            "2022-09-22 00:16:28,225 - root - INFO - train_loss: 0.22476 - train_acc:0.91246\n"
          ]
        },
        {
          "output_type": "stream",
          "name": "stdout",
          "text": [
            "training on batchs .. 74/200\n"
          ]
        },
        {
          "output_type": "stream",
          "name": "stderr",
          "text": [
            "100%|██████████| 112/112 [00:09<00:00, 12.17it/s]\n",
            "INFO:root:current lr\n",
            "2022-09-22 00:16:37,439 - root - INFO - current lr\n",
            "INFO:root:[0.003807611844574883]\n",
            "2022-09-22 00:16:37,443 - root - INFO - [0.003807611844574883]\n",
            "INFO:root:train_loss: 0.23145 - train_acc:0.89787\n",
            "2022-09-22 00:16:37,455 - root - INFO - train_loss: 0.23145 - train_acc:0.89787\n"
          ]
        },
        {
          "output_type": "stream",
          "name": "stdout",
          "text": [
            "training on batchs .. 75/200\n"
          ]
        },
        {
          "output_type": "stream",
          "name": "stderr",
          "text": [
            "100%|██████████| 112/112 [00:09<00:00, 12.17it/s]\n",
            "INFO:root:current lr\n",
            "2022-09-22 00:16:46,673 - root - INFO - current lr\n",
            "INFO:root:[0.0024827790731256874]\n",
            "2022-09-22 00:16:46,680 - root - INFO - [0.0024827790731256874]\n",
            "INFO:root:train_loss: 0.22346 - train_acc:0.90348\n",
            "2022-09-22 00:16:46,693 - root - INFO - train_loss: 0.22346 - train_acc:0.90348\n"
          ]
        },
        {
          "output_type": "stream",
          "name": "stdout",
          "text": [
            "training on batchs .. 76/200\n"
          ]
        },
        {
          "output_type": "stream",
          "name": "stderr",
          "text": [
            "100%|██████████| 112/112 [00:09<00:00, 12.24it/s]\n",
            "INFO:root:current lr\n",
            "2022-09-22 00:16:55,858 - root - INFO - current lr\n",
            "INFO:root:[0.001416915185551226]\n",
            "2022-09-22 00:16:55,864 - root - INFO - [0.001416915185551226]\n",
            "INFO:root:train_loss: 0.22327 - train_acc:0.90685\n",
            "2022-09-22 00:16:55,871 - root - INFO - train_loss: 0.22327 - train_acc:0.90685\n"
          ]
        },
        {
          "output_type": "stream",
          "name": "stdout",
          "text": [
            "training on batchs .. 77/200\n"
          ]
        },
        {
          "output_type": "stream",
          "name": "stderr",
          "text": [
            "100%|██████████| 112/112 [00:09<00:00, 12.22it/s]\n",
            "INFO:root:current lr\n",
            "2022-09-22 00:17:05,058 - root - INFO - current lr\n",
            "INFO:root:[0.0006362652881629982]\n",
            "2022-09-22 00:17:05,062 - root - INFO - [0.0006362652881629982]\n",
            "INFO:root:train_loss: 0.20641 - train_acc:0.91807\n",
            "2022-09-22 00:17:05,076 - root - INFO - train_loss: 0.20641 - train_acc:0.91807\n"
          ]
        },
        {
          "output_type": "stream",
          "name": "stdout",
          "text": [
            "training on batchs .. 78/200\n"
          ]
        },
        {
          "output_type": "stream",
          "name": "stderr",
          "text": [
            "100%|██████████| 112/112 [00:09<00:00, 12.23it/s]\n",
            "INFO:root:current lr\n",
            "2022-09-22 00:17:14,246 - root - INFO - current lr\n",
            "INFO:root:[0.000160051572263209]\n",
            "2022-09-22 00:17:14,251 - root - INFO - [0.000160051572263209]\n",
            "INFO:root:train_loss: 0.21418 - train_acc:0.91021\n",
            "2022-09-22 00:17:14,266 - root - INFO - train_loss: 0.21418 - train_acc:0.91021\n"
          ]
        },
        {
          "output_type": "stream",
          "name": "stdout",
          "text": [
            "training on batchs .. 79/200\n"
          ]
        },
        {
          "output_type": "stream",
          "name": "stderr",
          "text": [
            "100%|██████████| 112/112 [00:09<00:00, 11.91it/s]\n",
            "INFO:root:current lr\n",
            "2022-09-22 00:17:23,682 - root - INFO - current lr\n",
            "INFO:root:[0.026]\n",
            "2022-09-22 00:17:23,691 - root - INFO - [0.026]\n",
            "INFO:root:train_loss: 0.19591 - train_acc:0.92368\n",
            "2022-09-22 00:17:23,698 - root - INFO - train_loss: 0.19591 - train_acc:0.92368\n"
          ]
        },
        {
          "output_type": "stream",
          "name": "stdout",
          "text": [
            "training on batchs .. 80/200\n"
          ]
        },
        {
          "output_type": "stream",
          "name": "stderr",
          "text": [
            "100%|██████████| 112/112 [00:09<00:00, 12.13it/s]\n",
            "INFO:root:current lr\n",
            "2022-09-22 00:17:32,952 - root - INFO - current lr\n",
            "INFO:root:[0.02583994842773679]\n",
            "2022-09-22 00:17:32,955 - root - INFO - [0.02583994842773679]\n",
            "INFO:root:train_loss: 0.53905 - train_acc:0.85073\n",
            "2022-09-22 00:17:32,966 - root - INFO - train_loss: 0.53905 - train_acc:0.85073\n"
          ]
        },
        {
          "output_type": "stream",
          "name": "stdout",
          "text": [
            "training on batchs .. 81/200\n"
          ]
        },
        {
          "output_type": "stream",
          "name": "stderr",
          "text": [
            "100%|██████████| 112/112 [00:09<00:00, 12.19it/s]\n",
            "INFO:root:current lr\n",
            "2022-09-22 00:17:42,168 - root - INFO - current lr\n",
            "INFO:root:[0.025363734711836994]\n",
            "2022-09-22 00:17:42,173 - root - INFO - [0.025363734711836994]\n",
            "INFO:root:train_loss: 0.46935 - train_acc:0.83614\n",
            "2022-09-22 00:17:42,186 - root - INFO - train_loss: 0.46935 - train_acc:0.83614\n"
          ]
        },
        {
          "output_type": "stream",
          "name": "stdout",
          "text": [
            "training on batchs .. 82/200\n"
          ]
        },
        {
          "output_type": "stream",
          "name": "stderr",
          "text": [
            "100%|██████████| 112/112 [00:09<00:00, 12.13it/s]\n",
            "INFO:root:current lr\n",
            "2022-09-22 00:17:51,431 - root - INFO - current lr\n",
            "INFO:root:[0.024583084814448784]\n",
            "2022-09-22 00:17:51,435 - root - INFO - [0.024583084814448784]\n",
            "INFO:root:train_loss: 0.39169 - train_acc:0.85971\n",
            "2022-09-22 00:17:51,445 - root - INFO - train_loss: 0.39169 - train_acc:0.85971\n"
          ]
        },
        {
          "output_type": "stream",
          "name": "stdout",
          "text": [
            "training on batchs .. 83/200\n"
          ]
        },
        {
          "output_type": "stream",
          "name": "stderr",
          "text": [
            "100%|██████████| 112/112 [00:09<00:00, 12.17it/s]\n",
            "INFO:root:current lr\n",
            "2022-09-22 00:18:00,666 - root - INFO - current lr\n",
            "INFO:root:[0.02351722092687431]\n",
            "2022-09-22 00:18:00,674 - root - INFO - [0.02351722092687431]\n",
            "INFO:root:train_loss: 0.32255 - train_acc:0.87542\n",
            "2022-09-22 00:18:00,684 - root - INFO - train_loss: 0.32255 - train_acc:0.87542\n"
          ]
        },
        {
          "output_type": "stream",
          "name": "stdout",
          "text": [
            "training on batchs .. 84/200\n"
          ]
        },
        {
          "output_type": "stream",
          "name": "stderr",
          "text": [
            "100%|██████████| 112/112 [00:09<00:00, 12.24it/s]\n",
            "INFO:root:current lr\n",
            "2022-09-22 00:18:09,848 - root - INFO - current lr\n",
            "INFO:root:[0.022192388155425118]\n",
            "2022-09-22 00:18:09,851 - root - INFO - [0.022192388155425118]\n",
            "INFO:root:train_loss: 0.28566 - train_acc:0.89001\n",
            "2022-09-22 00:18:09,863 - root - INFO - train_loss: 0.28566 - train_acc:0.89001\n"
          ]
        },
        {
          "output_type": "stream",
          "name": "stdout",
          "text": [
            "training on batchs .. 85/200\n"
          ]
        },
        {
          "output_type": "stream",
          "name": "stderr",
          "text": [
            "100%|██████████| 112/112 [00:09<00:00, 12.28it/s]\n",
            "INFO:root:current lr\n",
            "2022-09-22 00:18:18,998 - root - INFO - current lr\n",
            "INFO:root:[0.020641208279802155]\n",
            "2022-09-22 00:18:19,003 - root - INFO - [0.020641208279802155]\n",
            "INFO:root:train_loss: 0.30529 - train_acc:0.86756\n",
            "2022-09-22 00:18:19,011 - root - INFO - train_loss: 0.30529 - train_acc:0.86756\n"
          ]
        },
        {
          "output_type": "stream",
          "name": "stdout",
          "text": [
            "training on batchs .. 86/200\n"
          ]
        },
        {
          "output_type": "stream",
          "name": "stderr",
          "text": [
            "100%|██████████| 112/112 [00:09<00:00, 12.20it/s]\n",
            "INFO:root:current lr\n",
            "2022-09-22 00:18:28,212 - root - INFO - current lr\n",
            "INFO:root:[0.018901876496614105]\n",
            "2022-09-22 00:18:28,216 - root - INFO - [0.018901876496614105]\n",
            "INFO:root:train_loss: 0.28697 - train_acc:0.88103\n",
            "2022-09-22 00:18:28,228 - root - INFO - train_loss: 0.28697 - train_acc:0.88103\n"
          ]
        },
        {
          "output_type": "stream",
          "name": "stdout",
          "text": [
            "training on batchs .. 87/200\n"
          ]
        },
        {
          "output_type": "stream",
          "name": "stderr",
          "text": [
            "100%|██████████| 112/112 [00:09<00:00, 12.20it/s]\n",
            "INFO:root:current lr\n",
            "2022-09-22 00:18:37,431 - root - INFO - current lr\n",
            "INFO:root:[0.01701722092687432]\n",
            "2022-09-22 00:18:37,435 - root - INFO - [0.01701722092687432]\n",
            "INFO:root:train_loss: 0.26700 - train_acc:0.88777\n",
            "2022-09-22 00:18:37,447 - root - INFO - train_loss: 0.26700 - train_acc:0.88777\n"
          ]
        },
        {
          "output_type": "stream",
          "name": "stdout",
          "text": [
            "training on batchs .. 88/200\n"
          ]
        },
        {
          "output_type": "stream",
          "name": "stderr",
          "text": [
            "100%|██████████| 112/112 [00:09<00:00, 12.16it/s]\n",
            "INFO:root:current lr\n",
            "2022-09-22 00:18:46,675 - root - INFO - current lr\n",
            "INFO:root:[0.015033648045522994]\n",
            "2022-09-22 00:18:46,680 - root - INFO - [0.015033648045522994]\n",
            "INFO:root:train_loss: 0.26144 - train_acc:0.90011\n",
            "2022-09-22 00:18:46,695 - root - INFO - train_loss: 0.26144 - train_acc:0.90011\n"
          ]
        },
        {
          "output_type": "stream",
          "name": "stdout",
          "text": [
            "training on batchs .. 89/200\n"
          ]
        },
        {
          "output_type": "stream",
          "name": "stderr",
          "text": [
            "100%|██████████| 112/112 [00:09<00:00, 12.18it/s]\n",
            "INFO:root:current lr\n",
            "2022-09-22 00:18:55,904 - root - INFO - current lr\n",
            "INFO:root:[0.013]\n",
            "2022-09-22 00:18:55,908 - root - INFO - [0.013]\n",
            "INFO:root:train_loss: 0.26006 - train_acc:0.89675\n",
            "2022-09-22 00:18:55,917 - root - INFO - train_loss: 0.26006 - train_acc:0.89675\n"
          ]
        },
        {
          "output_type": "stream",
          "name": "stdout",
          "text": [
            "training on batchs .. 90/200\n"
          ]
        },
        {
          "output_type": "stream",
          "name": "stderr",
          "text": [
            "100%|██████████| 112/112 [00:09<00:00, 12.20it/s]\n",
            "INFO:root:current lr\n",
            "2022-09-22 00:19:05,118 - root - INFO - current lr\n",
            "INFO:root:[0.010966351954477007]\n",
            "2022-09-22 00:19:05,123 - root - INFO - [0.010966351954477007]\n",
            "INFO:root:train_loss: 0.24914 - train_acc:0.89899\n",
            "2022-09-22 00:19:05,134 - root - INFO - train_loss: 0.24914 - train_acc:0.89899\n"
          ]
        },
        {
          "output_type": "stream",
          "name": "stdout",
          "text": [
            "training on batchs .. 91/200\n"
          ]
        },
        {
          "output_type": "stream",
          "name": "stderr",
          "text": [
            "100%|██████████| 112/112 [00:09<00:00, 12.15it/s]\n",
            "INFO:root:current lr\n",
            "2022-09-22 00:19:14,368 - root - INFO - current lr\n",
            "INFO:root:[0.00898277907312568]\n",
            "2022-09-22 00:19:14,373 - root - INFO - [0.00898277907312568]\n",
            "INFO:root:train_loss: 0.24869 - train_acc:0.89787\n",
            "2022-09-22 00:19:14,378 - root - INFO - train_loss: 0.24869 - train_acc:0.89787\n"
          ]
        },
        {
          "output_type": "stream",
          "name": "stdout",
          "text": [
            "training on batchs .. 92/200\n"
          ]
        },
        {
          "output_type": "stream",
          "name": "stderr",
          "text": [
            "100%|██████████| 112/112 [00:09<00:00, 12.18it/s]\n",
            "INFO:root:current lr\n",
            "2022-09-22 00:19:23,591 - root - INFO - current lr\n",
            "INFO:root:[0.007098123503385898]\n",
            "2022-09-22 00:19:23,597 - root - INFO - [0.007098123503385898]\n",
            "INFO:root:train_loss: 0.22083 - train_acc:0.90685\n",
            "2022-09-22 00:19:23,611 - root - INFO - train_loss: 0.22083 - train_acc:0.90685\n"
          ]
        },
        {
          "output_type": "stream",
          "name": "stdout",
          "text": [
            "training on batchs .. 93/200\n"
          ]
        },
        {
          "output_type": "stream",
          "name": "stderr",
          "text": [
            "100%|██████████| 112/112 [00:09<00:00, 12.11it/s]\n",
            "INFO:root:current lr\n",
            "2022-09-22 00:19:32,876 - root - INFO - current lr\n",
            "INFO:root:[0.005358791720197859]\n",
            "2022-09-22 00:19:32,879 - root - INFO - [0.005358791720197859]\n",
            "INFO:root:train_loss: 0.20636 - train_acc:0.92144\n",
            "2022-09-22 00:19:32,885 - root - INFO - train_loss: 0.20636 - train_acc:0.92144\n"
          ]
        },
        {
          "output_type": "stream",
          "name": "stdout",
          "text": [
            "training on batchs .. 94/200\n"
          ]
        },
        {
          "output_type": "stream",
          "name": "stderr",
          "text": [
            "100%|██████████| 112/112 [00:09<00:00, 12.00it/s]\n",
            "INFO:root:current lr\n",
            "2022-09-22 00:19:42,241 - root - INFO - current lr\n",
            "INFO:root:[0.003807611844574883]\n",
            "2022-09-22 00:19:42,250 - root - INFO - [0.003807611844574883]\n",
            "INFO:root:train_loss: 0.22862 - train_acc:0.90460\n",
            "2022-09-22 00:19:42,260 - root - INFO - train_loss: 0.22862 - train_acc:0.90460\n"
          ]
        },
        {
          "output_type": "stream",
          "name": "stdout",
          "text": [
            "training on batchs .. 95/200\n"
          ]
        },
        {
          "output_type": "stream",
          "name": "stderr",
          "text": [
            "100%|██████████| 112/112 [00:09<00:00, 12.10it/s]\n",
            "INFO:root:current lr\n",
            "2022-09-22 00:19:51,530 - root - INFO - current lr\n",
            "INFO:root:[0.0024827790731256874]\n",
            "2022-09-22 00:19:51,542 - root - INFO - [0.0024827790731256874]\n",
            "INFO:root:train_loss: 0.20831 - train_acc:0.90685\n",
            "2022-09-22 00:19:51,550 - root - INFO - train_loss: 0.20831 - train_acc:0.90685\n"
          ]
        },
        {
          "output_type": "stream",
          "name": "stdout",
          "text": [
            "training on batchs .. 96/200\n"
          ]
        },
        {
          "output_type": "stream",
          "name": "stderr",
          "text": [
            "100%|██████████| 112/112 [00:09<00:00, 12.26it/s]\n",
            "INFO:root:current lr\n",
            "2022-09-22 00:20:00,703 - root - INFO - current lr\n",
            "INFO:root:[0.001416915185551226]\n",
            "2022-09-22 00:20:00,707 - root - INFO - [0.001416915185551226]\n",
            "INFO:root:train_loss: 0.19923 - train_acc:0.92480\n",
            "2022-09-22 00:20:00,722 - root - INFO - train_loss: 0.19923 - train_acc:0.92480\n"
          ]
        },
        {
          "output_type": "stream",
          "name": "stdout",
          "text": [
            "training on batchs .. 97/200\n"
          ]
        },
        {
          "output_type": "stream",
          "name": "stderr",
          "text": [
            "100%|██████████| 112/112 [00:09<00:00, 12.25it/s]\n",
            "INFO:root:current lr\n",
            "2022-09-22 00:20:09,881 - root - INFO - current lr\n",
            "INFO:root:[0.0006362652881629982]\n",
            "2022-09-22 00:20:09,886 - root - INFO - [0.0006362652881629982]\n",
            "INFO:root:train_loss: 0.19950 - train_acc:0.91358\n",
            "2022-09-22 00:20:09,895 - root - INFO - train_loss: 0.19950 - train_acc:0.91358\n"
          ]
        },
        {
          "output_type": "stream",
          "name": "stdout",
          "text": [
            "training on batchs .. 98/200\n"
          ]
        },
        {
          "output_type": "stream",
          "name": "stderr",
          "text": [
            "100%|██████████| 112/112 [00:09<00:00, 12.24it/s]\n",
            "INFO:root:current lr\n",
            "2022-09-22 00:20:19,066 - root - INFO - current lr\n",
            "INFO:root:[0.000160051572263209]\n",
            "2022-09-22 00:20:19,071 - root - INFO - [0.000160051572263209]\n",
            "INFO:root:train_loss: 0.20680 - train_acc:0.91358\n",
            "2022-09-22 00:20:19,079 - root - INFO - train_loss: 0.20680 - train_acc:0.91358\n"
          ]
        },
        {
          "output_type": "stream",
          "name": "stdout",
          "text": [
            "training on batchs .. 99/200\n"
          ]
        },
        {
          "output_type": "stream",
          "name": "stderr",
          "text": [
            "100%|██████████| 112/112 [00:09<00:00, 12.23it/s]\n",
            "INFO:root:current lr\n",
            "2022-09-22 00:20:28,257 - root - INFO - current lr\n",
            "INFO:root:[0.026]\n",
            "2022-09-22 00:20:28,261 - root - INFO - [0.026]\n",
            "INFO:root:train_loss: 0.19441 - train_acc:0.91807\n",
            "2022-09-22 00:20:28,269 - root - INFO - train_loss: 0.19441 - train_acc:0.91807\n"
          ]
        },
        {
          "output_type": "stream",
          "name": "stdout",
          "text": [
            "training on batchs .. 100/200\n"
          ]
        },
        {
          "output_type": "stream",
          "name": "stderr",
          "text": [
            "100%|██████████| 112/112 [00:09<00:00, 12.21it/s]\n",
            "INFO:root:current lr\n",
            "2022-09-22 00:20:37,458 - root - INFO - current lr\n",
            "INFO:root:[0.02583994842773679]\n",
            "2022-09-22 00:20:37,463 - root - INFO - [0.02583994842773679]\n",
            "INFO:root:train_loss: 0.31708 - train_acc:0.88215\n",
            "2022-09-22 00:20:37,470 - root - INFO - train_loss: 0.31708 - train_acc:0.88215\n"
          ]
        },
        {
          "output_type": "stream",
          "name": "stdout",
          "text": [
            "training on batchs .. 101/200\n"
          ]
        },
        {
          "output_type": "stream",
          "name": "stderr",
          "text": [
            "100%|██████████| 112/112 [00:09<00:00, 12.19it/s]\n",
            "INFO:root:current lr\n",
            "2022-09-22 00:20:46,674 - root - INFO - current lr\n",
            "INFO:root:[0.025363734711836998]\n",
            "2022-09-22 00:20:46,678 - root - INFO - [0.025363734711836998]\n",
            "INFO:root:train_loss: 0.56047 - train_acc:0.82492\n",
            "2022-09-22 00:20:46,690 - root - INFO - train_loss: 0.56047 - train_acc:0.82492\n"
          ]
        },
        {
          "output_type": "stream",
          "name": "stdout",
          "text": [
            "training on batchs .. 102/200\n"
          ]
        },
        {
          "output_type": "stream",
          "name": "stderr",
          "text": [
            "100%|██████████| 112/112 [00:09<00:00, 12.20it/s]\n",
            "INFO:root:current lr\n",
            "2022-09-22 00:20:55,888 - root - INFO - current lr\n",
            "INFO:root:[0.024583084814448774]\n",
            "2022-09-22 00:20:55,891 - root - INFO - [0.024583084814448774]\n",
            "INFO:root:train_loss: 0.34870 - train_acc:0.85859\n",
            "2022-09-22 00:20:55,902 - root - INFO - train_loss: 0.34870 - train_acc:0.85859\n"
          ]
        },
        {
          "output_type": "stream",
          "name": "stdout",
          "text": [
            "training on batchs .. 103/200\n"
          ]
        },
        {
          "output_type": "stream",
          "name": "stderr",
          "text": [
            "100%|██████████| 112/112 [00:09<00:00, 12.13it/s]\n",
            "INFO:root:current lr\n",
            "2022-09-22 00:21:05,148 - root - INFO - current lr\n",
            "INFO:root:[0.02351722092687431]\n",
            "2022-09-22 00:21:05,152 - root - INFO - [0.02351722092687431]\n",
            "INFO:root:train_loss: 0.35447 - train_acc:0.85859\n",
            "2022-09-22 00:21:05,163 - root - INFO - train_loss: 0.35447 - train_acc:0.85859\n"
          ]
        },
        {
          "output_type": "stream",
          "name": "stdout",
          "text": [
            "training on batchs .. 104/200\n"
          ]
        },
        {
          "output_type": "stream",
          "name": "stderr",
          "text": [
            "100%|██████████| 112/112 [00:09<00:00, 12.19it/s]\n",
            "INFO:root:current lr\n",
            "2022-09-22 00:21:14,366 - root - INFO - current lr\n",
            "INFO:root:[0.022192388155425118]\n",
            "2022-09-22 00:21:14,370 - root - INFO - [0.022192388155425118]\n",
            "INFO:root:train_loss: 0.34032 - train_acc:0.86532\n",
            "2022-09-22 00:21:14,376 - root - INFO - train_loss: 0.34032 - train_acc:0.86532\n"
          ]
        },
        {
          "output_type": "stream",
          "name": "stdout",
          "text": [
            "training on batchs .. 105/200\n"
          ]
        },
        {
          "output_type": "stream",
          "name": "stderr",
          "text": [
            "100%|██████████| 112/112 [00:09<00:00, 12.23it/s]\n",
            "INFO:root:current lr\n",
            "2022-09-22 00:21:23,561 - root - INFO - current lr\n",
            "INFO:root:[0.020641208279802155]\n",
            "2022-09-22 00:21:23,565 - root - INFO - [0.020641208279802155]\n",
            "INFO:root:train_loss: 0.30562 - train_acc:0.89338\n",
            "2022-09-22 00:21:23,574 - root - INFO - train_loss: 0.30562 - train_acc:0.89338\n"
          ]
        },
        {
          "output_type": "stream",
          "name": "stdout",
          "text": [
            "training on batchs .. 106/200\n"
          ]
        },
        {
          "output_type": "stream",
          "name": "stderr",
          "text": [
            "100%|██████████| 112/112 [00:09<00:00, 12.29it/s]\n",
            "INFO:root:current lr\n",
            "2022-09-22 00:21:32,703 - root - INFO - current lr\n",
            "INFO:root:[0.018901876496614123]\n",
            "2022-09-22 00:21:32,707 - root - INFO - [0.018901876496614123]\n",
            "INFO:root:train_loss: 0.25501 - train_acc:0.89113\n",
            "2022-09-22 00:21:32,720 - root - INFO - train_loss: 0.25501 - train_acc:0.89113\n"
          ]
        },
        {
          "output_type": "stream",
          "name": "stdout",
          "text": [
            "training on batchs .. 107/200\n"
          ]
        },
        {
          "output_type": "stream",
          "name": "stderr",
          "text": [
            "100%|██████████| 112/112 [00:09<00:00, 12.16it/s]\n",
            "INFO:root:current lr\n",
            "2022-09-22 00:21:41,945 - root - INFO - current lr\n",
            "INFO:root:[0.01701722092687434]\n",
            "2022-09-22 00:21:41,953 - root - INFO - [0.01701722092687434]\n",
            "INFO:root:train_loss: 0.21576 - train_acc:0.92368\n",
            "2022-09-22 00:21:41,962 - root - INFO - train_loss: 0.21576 - train_acc:0.92368\n"
          ]
        },
        {
          "output_type": "stream",
          "name": "stdout",
          "text": [
            "training on batchs .. 108/200\n"
          ]
        },
        {
          "output_type": "stream",
          "name": "stderr",
          "text": [
            "100%|██████████| 112/112 [00:09<00:00, 12.10it/s]\n",
            "INFO:root:current lr\n",
            "2022-09-22 00:21:51,233 - root - INFO - current lr\n",
            "INFO:root:[0.015033648045522994]\n",
            "2022-09-22 00:21:51,237 - root - INFO - [0.015033648045522994]\n",
            "INFO:root:train_loss: 0.21111 - train_acc:0.91358\n",
            "2022-09-22 00:21:51,247 - root - INFO - train_loss: 0.21111 - train_acc:0.91358\n"
          ]
        },
        {
          "output_type": "stream",
          "name": "stdout",
          "text": [
            "training on batchs .. 109/200\n"
          ]
        },
        {
          "output_type": "stream",
          "name": "stderr",
          "text": [
            "100%|██████████| 112/112 [00:09<00:00, 12.24it/s]\n",
            "INFO:root:current lr\n",
            "2022-09-22 00:22:00,413 - root - INFO - current lr\n",
            "INFO:root:[0.013]\n",
            "2022-09-22 00:22:00,417 - root - INFO - [0.013]\n",
            "INFO:root:train_loss: 0.21015 - train_acc:0.91919\n",
            "2022-09-22 00:22:00,428 - root - INFO - train_loss: 0.21015 - train_acc:0.91919\n"
          ]
        },
        {
          "output_type": "stream",
          "name": "stdout",
          "text": [
            "training on batchs .. 110/200\n"
          ]
        },
        {
          "output_type": "stream",
          "name": "stderr",
          "text": [
            "100%|██████████| 112/112 [00:09<00:00, 12.28it/s]\n",
            "INFO:root:current lr\n",
            "2022-09-22 00:22:09,558 - root - INFO - current lr\n",
            "INFO:root:[0.010966351954477007]\n",
            "2022-09-22 00:22:09,562 - root - INFO - [0.010966351954477007]\n",
            "INFO:root:train_loss: 0.19748 - train_acc:0.92480\n",
            "2022-09-22 00:22:09,571 - root - INFO - train_loss: 0.19748 - train_acc:0.92480\n"
          ]
        },
        {
          "output_type": "stream",
          "name": "stdout",
          "text": [
            "training on batchs .. 111/200\n"
          ]
        },
        {
          "output_type": "stream",
          "name": "stderr",
          "text": [
            "100%|██████████| 112/112 [00:09<00:00, 12.25it/s]\n",
            "INFO:root:current lr\n",
            "2022-09-22 00:22:18,731 - root - INFO - current lr\n",
            "INFO:root:[0.008982779073125698]\n",
            "2022-09-22 00:22:18,736 - root - INFO - [0.008982779073125698]\n",
            "INFO:root:train_loss: 0.19973 - train_acc:0.92368\n",
            "2022-09-22 00:22:18,750 - root - INFO - train_loss: 0.19973 - train_acc:0.92368\n"
          ]
        },
        {
          "output_type": "stream",
          "name": "stdout",
          "text": [
            "training on batchs .. 112/200\n"
          ]
        },
        {
          "output_type": "stream",
          "name": "stderr",
          "text": [
            "100%|██████████| 112/112 [00:09<00:00, 12.25it/s]\n",
            "INFO:root:current lr\n",
            "2022-09-22 00:22:27,909 - root - INFO - current lr\n",
            "INFO:root:[0.007098123503385878]\n",
            "2022-09-22 00:22:27,915 - root - INFO - [0.007098123503385878]\n",
            "INFO:root:train_loss: 0.18129 - train_acc:0.92593\n",
            "2022-09-22 00:22:27,925 - root - INFO - train_loss: 0.18129 - train_acc:0.92593\n"
          ]
        },
        {
          "output_type": "stream",
          "name": "stdout",
          "text": [
            "training on batchs .. 113/200\n"
          ]
        },
        {
          "output_type": "stream",
          "name": "stderr",
          "text": [
            "100%|██████████| 112/112 [00:09<00:00, 12.17it/s]\n",
            "INFO:root:current lr\n",
            "2022-09-22 00:22:37,147 - root - INFO - current lr\n",
            "INFO:root:[0.005358791720197845]\n",
            "2022-09-22 00:22:37,149 - root - INFO - [0.005358791720197845]\n",
            "INFO:root:train_loss: 0.18713 - train_acc:0.92256\n",
            "2022-09-22 00:22:37,160 - root - INFO - train_loss: 0.18713 - train_acc:0.92256\n"
          ]
        },
        {
          "output_type": "stream",
          "name": "stdout",
          "text": [
            "training on batchs .. 114/200\n"
          ]
        },
        {
          "output_type": "stream",
          "name": "stderr",
          "text": [
            "100%|██████████| 112/112 [00:09<00:00, 12.12it/s]\n",
            "INFO:root:current lr\n",
            "2022-09-22 00:22:46,422 - root - INFO - current lr\n",
            "INFO:root:[0.003807611844574883]\n",
            "2022-09-22 00:22:46,428 - root - INFO - [0.003807611844574883]\n",
            "INFO:root:train_loss: 0.18379 - train_acc:0.92929\n",
            "2022-09-22 00:22:46,434 - root - INFO - train_loss: 0.18379 - train_acc:0.92929\n"
          ]
        },
        {
          "output_type": "stream",
          "name": "stdout",
          "text": [
            "training on batchs .. 115/200\n"
          ]
        },
        {
          "output_type": "stream",
          "name": "stderr",
          "text": [
            "100%|██████████| 112/112 [00:09<00:00, 12.18it/s]\n",
            "INFO:root:current lr\n",
            "2022-09-22 00:22:55,649 - root - INFO - current lr\n",
            "INFO:root:[0.0024827790731256874]\n",
            "2022-09-22 00:22:55,653 - root - INFO - [0.0024827790731256874]\n",
            "INFO:root:train_loss: 0.18493 - train_acc:0.92368\n",
            "2022-09-22 00:22:55,664 - root - INFO - train_loss: 0.18493 - train_acc:0.92368\n"
          ]
        },
        {
          "output_type": "stream",
          "name": "stdout",
          "text": [
            "training on batchs .. 116/200\n"
          ]
        },
        {
          "output_type": "stream",
          "name": "stderr",
          "text": [
            "100%|██████████| 112/112 [00:09<00:00, 12.20it/s]\n",
            "INFO:root:current lr\n",
            "2022-09-22 00:23:04,860 - root - INFO - current lr\n",
            "INFO:root:[0.001416915185551226]\n",
            "2022-09-22 00:23:04,865 - root - INFO - [0.001416915185551226]\n",
            "INFO:root:train_loss: 0.18084 - train_acc:0.92705\n",
            "2022-09-22 00:23:04,874 - root - INFO - train_loss: 0.18084 - train_acc:0.92705\n"
          ]
        },
        {
          "output_type": "stream",
          "name": "stdout",
          "text": [
            "training on batchs .. 117/200\n"
          ]
        },
        {
          "output_type": "stream",
          "name": "stderr",
          "text": [
            "100%|██████████| 112/112 [00:09<00:00, 12.13it/s]\n",
            "INFO:root:current lr\n",
            "2022-09-22 00:23:14,121 - root - INFO - current lr\n",
            "INFO:root:[0.0006362652881630113]\n",
            "2022-09-22 00:23:14,125 - root - INFO - [0.0006362652881630113]\n",
            "INFO:root:train_loss: 0.18904 - train_acc:0.92705\n",
            "2022-09-22 00:23:14,137 - root - INFO - train_loss: 0.18904 - train_acc:0.92705\n"
          ]
        },
        {
          "output_type": "stream",
          "name": "stdout",
          "text": [
            "training on batchs .. 118/200\n"
          ]
        },
        {
          "output_type": "stream",
          "name": "stderr",
          "text": [
            "100%|██████████| 112/112 [00:09<00:00, 12.11it/s]\n",
            "INFO:root:current lr\n",
            "2022-09-22 00:23:23,403 - root - INFO - current lr\n",
            "INFO:root:[0.000160051572263209]\n",
            "2022-09-22 00:23:23,407 - root - INFO - [0.000160051572263209]\n",
            "INFO:root:train_loss: 0.16717 - train_acc:0.93827\n",
            "2022-09-22 00:23:23,422 - root - INFO - train_loss: 0.16717 - train_acc:0.93827\n"
          ]
        },
        {
          "output_type": "stream",
          "name": "stdout",
          "text": [
            "training on batchs .. 119/200\n"
          ]
        },
        {
          "output_type": "stream",
          "name": "stderr",
          "text": [
            "100%|██████████| 112/112 [00:09<00:00, 12.23it/s]\n",
            "INFO:root:current lr\n",
            "2022-09-22 00:23:32,588 - root - INFO - current lr\n",
            "INFO:root:[0.026]\n",
            "2022-09-22 00:23:32,595 - root - INFO - [0.026]\n",
            "INFO:root:train_loss: 0.16651 - train_acc:0.93042\n",
            "2022-09-22 00:23:32,607 - root - INFO - train_loss: 0.16651 - train_acc:0.93042\n"
          ]
        },
        {
          "output_type": "stream",
          "name": "stdout",
          "text": [
            "training on batchs .. 120/200\n"
          ]
        },
        {
          "output_type": "stream",
          "name": "stderr",
          "text": [
            "100%|██████████| 112/112 [00:09<00:00, 12.18it/s]\n",
            "INFO:root:current lr\n",
            "2022-09-22 00:23:41,816 - root - INFO - current lr\n",
            "INFO:root:[0.02583994842773679]\n",
            "2022-09-22 00:23:41,821 - root - INFO - [0.02583994842773679]\n",
            "INFO:root:train_loss: 0.27419 - train_acc:0.89450\n",
            "2022-09-22 00:23:41,827 - root - INFO - train_loss: 0.27419 - train_acc:0.89450\n"
          ]
        },
        {
          "output_type": "stream",
          "name": "stdout",
          "text": [
            "training on batchs .. 121/200\n"
          ]
        },
        {
          "output_type": "stream",
          "name": "stderr",
          "text": [
            "100%|██████████| 112/112 [00:09<00:00, 12.23it/s]\n",
            "INFO:root:current lr\n",
            "2022-09-22 00:23:50,997 - root - INFO - current lr\n",
            "INFO:root:[0.025363734711836998]\n",
            "2022-09-22 00:23:51,003 - root - INFO - [0.025363734711836998]\n",
            "INFO:root:train_loss: 0.39701 - train_acc:0.86981\n",
            "2022-09-22 00:23:51,013 - root - INFO - train_loss: 0.39701 - train_acc:0.86981\n"
          ]
        },
        {
          "output_type": "stream",
          "name": "stdout",
          "text": [
            "training on batchs .. 122/200\n"
          ]
        },
        {
          "output_type": "stream",
          "name": "stderr",
          "text": [
            "100%|██████████| 112/112 [00:09<00:00, 12.04it/s]\n",
            "INFO:root:current lr\n",
            "2022-09-22 00:24:00,327 - root - INFO - current lr\n",
            "INFO:root:[0.02458308481444879]\n",
            "2022-09-22 00:24:00,333 - root - INFO - [0.02458308481444879]\n",
            "INFO:root:train_loss: 0.47854 - train_acc:0.85746\n",
            "2022-09-22 00:24:00,340 - root - INFO - train_loss: 0.47854 - train_acc:0.85746\n"
          ]
        },
        {
          "output_type": "stream",
          "name": "stdout",
          "text": [
            "training on batchs .. 123/200\n"
          ]
        },
        {
          "output_type": "stream",
          "name": "stderr",
          "text": [
            "100%|██████████| 112/112 [00:09<00:00, 12.31it/s]\n",
            "INFO:root:current lr\n",
            "2022-09-22 00:24:09,457 - root - INFO - current lr\n",
            "INFO:root:[0.023517220926874333]\n",
            "2022-09-22 00:24:09,461 - root - INFO - [0.023517220926874333]\n",
            "INFO:root:train_loss: 0.38173 - train_acc:0.86981\n",
            "2022-09-22 00:24:09,471 - root - INFO - train_loss: 0.38173 - train_acc:0.86981\n"
          ]
        },
        {
          "output_type": "stream",
          "name": "stdout",
          "text": [
            "training on batchs .. 124/200\n"
          ]
        },
        {
          "output_type": "stream",
          "name": "stderr",
          "text": [
            "100%|██████████| 112/112 [00:09<00:00, 12.26it/s]\n",
            "INFO:root:current lr\n",
            "2022-09-22 00:24:18,621 - root - INFO - current lr\n",
            "INFO:root:[0.022192388155425118]\n",
            "2022-09-22 00:24:18,626 - root - INFO - [0.022192388155425118]\n",
            "INFO:root:train_loss: 0.27026 - train_acc:0.90011\n",
            "2022-09-22 00:24:18,634 - root - INFO - train_loss: 0.27026 - train_acc:0.90011\n"
          ]
        },
        {
          "output_type": "stream",
          "name": "stdout",
          "text": [
            "training on batchs .. 125/200\n"
          ]
        },
        {
          "output_type": "stream",
          "name": "stderr",
          "text": [
            "100%|██████████| 112/112 [00:09<00:00, 12.28it/s]\n",
            "INFO:root:current lr\n",
            "2022-09-22 00:24:27,773 - root - INFO - current lr\n",
            "INFO:root:[0.020641208279802155]\n",
            "2022-09-22 00:24:27,779 - root - INFO - [0.020641208279802155]\n",
            "INFO:root:train_loss: 0.23162 - train_acc:0.91134\n",
            "2022-09-22 00:24:27,792 - root - INFO - train_loss: 0.23162 - train_acc:0.91134\n"
          ]
        },
        {
          "output_type": "stream",
          "name": "stdout",
          "text": [
            "training on batchs .. 126/200\n"
          ]
        },
        {
          "output_type": "stream",
          "name": "stderr",
          "text": [
            "100%|██████████| 112/112 [00:09<00:00, 12.25it/s]\n",
            "INFO:root:current lr\n",
            "2022-09-22 00:24:36,956 - root - INFO - current lr\n",
            "INFO:root:[0.018901876496614123]\n",
            "2022-09-22 00:24:36,960 - root - INFO - [0.018901876496614123]\n",
            "INFO:root:train_loss: 0.24946 - train_acc:0.89787\n",
            "2022-09-22 00:24:36,971 - root - INFO - train_loss: 0.24946 - train_acc:0.89787\n"
          ]
        },
        {
          "output_type": "stream",
          "name": "stdout",
          "text": [
            "training on batchs .. 127/200\n"
          ]
        },
        {
          "output_type": "stream",
          "name": "stderr",
          "text": [
            "100%|██████████| 112/112 [00:09<00:00, 12.28it/s]\n",
            "INFO:root:current lr\n",
            "2022-09-22 00:24:46,104 - root - INFO - current lr\n",
            "INFO:root:[0.01701722092687434]\n",
            "2022-09-22 00:24:46,109 - root - INFO - [0.01701722092687434]\n",
            "INFO:root:train_loss: 0.27214 - train_acc:0.88103\n",
            "2022-09-22 00:24:46,115 - root - INFO - train_loss: 0.27214 - train_acc:0.88103\n"
          ]
        },
        {
          "output_type": "stream",
          "name": "stdout",
          "text": [
            "training on batchs .. 128/200\n"
          ]
        },
        {
          "output_type": "stream",
          "name": "stderr",
          "text": [
            "100%|██████████| 112/112 [00:09<00:00, 12.25it/s]\n",
            "INFO:root:current lr\n",
            "2022-09-22 00:24:55,276 - root - INFO - current lr\n",
            "INFO:root:[0.01503364804552303]\n",
            "2022-09-22 00:24:55,280 - root - INFO - [0.01503364804552303]\n",
            "INFO:root:train_loss: 0.28442 - train_acc:0.88103\n",
            "2022-09-22 00:24:55,291 - root - INFO - train_loss: 0.28442 - train_acc:0.88103\n"
          ]
        },
        {
          "output_type": "stream",
          "name": "stdout",
          "text": [
            "training on batchs .. 129/200\n"
          ]
        },
        {
          "output_type": "stream",
          "name": "stderr",
          "text": [
            "100%|██████████| 112/112 [00:09<00:00, 12.26it/s]\n",
            "INFO:root:current lr\n",
            "2022-09-22 00:25:04,444 - root - INFO - current lr\n",
            "INFO:root:[0.013]\n",
            "2022-09-22 00:25:04,447 - root - INFO - [0.013]\n",
            "INFO:root:train_loss: 0.21799 - train_acc:0.89899\n",
            "2022-09-22 00:25:04,461 - root - INFO - train_loss: 0.21799 - train_acc:0.89899\n"
          ]
        },
        {
          "output_type": "stream",
          "name": "stdout",
          "text": [
            "training on batchs .. 130/200\n"
          ]
        },
        {
          "output_type": "stream",
          "name": "stderr",
          "text": [
            "100%|██████████| 112/112 [00:09<00:00, 12.31it/s]\n",
            "INFO:root:current lr\n",
            "2022-09-22 00:25:13,574 - root - INFO - current lr\n",
            "INFO:root:[0.01096635195447697]\n",
            "2022-09-22 00:25:13,578 - root - INFO - [0.01096635195447697]\n",
            "INFO:root:train_loss: 0.23258 - train_acc:0.89899\n",
            "2022-09-22 00:25:13,594 - root - INFO - train_loss: 0.23258 - train_acc:0.89899\n"
          ]
        },
        {
          "output_type": "stream",
          "name": "stdout",
          "text": [
            "training on batchs .. 131/200\n"
          ]
        },
        {
          "output_type": "stream",
          "name": "stderr",
          "text": [
            "100%|██████████| 112/112 [00:09<00:00, 12.24it/s]\n",
            "INFO:root:current lr\n",
            "2022-09-22 00:25:22,763 - root - INFO - current lr\n",
            "INFO:root:[0.008982779073125698]\n",
            "2022-09-22 00:25:22,768 - root - INFO - [0.008982779073125698]\n",
            "INFO:root:train_loss: 0.21129 - train_acc:0.91582\n",
            "2022-09-22 00:25:22,780 - root - INFO - train_loss: 0.21129 - train_acc:0.91582\n"
          ]
        },
        {
          "output_type": "stream",
          "name": "stdout",
          "text": [
            "training on batchs .. 132/200\n"
          ]
        },
        {
          "output_type": "stream",
          "name": "stderr",
          "text": [
            "100%|██████████| 112/112 [00:09<00:00, 12.28it/s]\n",
            "INFO:root:current lr\n",
            "2022-09-22 00:25:31,921 - root - INFO - current lr\n",
            "INFO:root:[0.007098123503385878]\n",
            "2022-09-22 00:25:31,925 - root - INFO - [0.007098123503385878]\n",
            "INFO:root:train_loss: 0.21424 - train_acc:0.91358\n",
            "2022-09-22 00:25:31,933 - root - INFO - train_loss: 0.21424 - train_acc:0.91358\n"
          ]
        },
        {
          "output_type": "stream",
          "name": "stdout",
          "text": [
            "training on batchs .. 133/200\n"
          ]
        },
        {
          "output_type": "stream",
          "name": "stderr",
          "text": [
            "100%|██████████| 112/112 [00:09<00:00, 12.20it/s]\n",
            "INFO:root:current lr\n",
            "2022-09-22 00:25:41,132 - root - INFO - current lr\n",
            "INFO:root:[0.0053587917201978735]\n",
            "2022-09-22 00:25:41,136 - root - INFO - [0.0053587917201978735]\n",
            "INFO:root:train_loss: 0.19722 - train_acc:0.91134\n",
            "2022-09-22 00:25:41,147 - root - INFO - train_loss: 0.19722 - train_acc:0.91134\n"
          ]
        },
        {
          "output_type": "stream",
          "name": "stdout",
          "text": [
            "training on batchs .. 134/200\n"
          ]
        },
        {
          "output_type": "stream",
          "name": "stderr",
          "text": [
            "100%|██████████| 112/112 [00:09<00:00, 12.16it/s]\n",
            "INFO:root:current lr\n",
            "2022-09-22 00:25:50,377 - root - INFO - current lr\n",
            "INFO:root:[0.003807611844574883]\n",
            "2022-09-22 00:25:50,383 - root - INFO - [0.003807611844574883]\n",
            "INFO:root:train_loss: 0.17754 - train_acc:0.92256\n",
            "2022-09-22 00:25:50,393 - root - INFO - train_loss: 0.17754 - train_acc:0.92256\n"
          ]
        },
        {
          "output_type": "stream",
          "name": "stdout",
          "text": [
            "training on batchs .. 135/200\n"
          ]
        },
        {
          "output_type": "stream",
          "name": "stderr",
          "text": [
            "100%|██████████| 112/112 [00:09<00:00, 12.16it/s]\n",
            "INFO:root:current lr\n",
            "2022-09-22 00:25:59,617 - root - INFO - current lr\n",
            "INFO:root:[0.002482779073125667]\n",
            "2022-09-22 00:25:59,622 - root - INFO - [0.002482779073125667]\n",
            "INFO:root:train_loss: 0.18451 - train_acc:0.93042\n",
            "2022-09-22 00:25:59,632 - root - INFO - train_loss: 0.18451 - train_acc:0.93042\n"
          ]
        },
        {
          "output_type": "stream",
          "name": "stdout",
          "text": [
            "training on batchs .. 136/200\n"
          ]
        },
        {
          "output_type": "stream",
          "name": "stderr",
          "text": [
            "100%|██████████| 112/112 [00:09<00:00, 11.93it/s]\n",
            "INFO:root:current lr\n",
            "2022-09-22 00:26:09,033 - root - INFO - current lr\n",
            "INFO:root:[0.0014169151855512071]\n",
            "2022-09-22 00:26:09,037 - root - INFO - [0.0014169151855512071]\n",
            "INFO:root:train_loss: 0.16732 - train_acc:0.94052\n",
            "2022-09-22 00:26:09,045 - root - INFO - train_loss: 0.16732 - train_acc:0.94052\n"
          ]
        },
        {
          "output_type": "stream",
          "name": "stdout",
          "text": [
            "training on batchs .. 137/200\n"
          ]
        },
        {
          "output_type": "stream",
          "name": "stderr",
          "text": [
            "100%|██████████| 112/112 [00:09<00:00, 12.10it/s]\n",
            "INFO:root:current lr\n",
            "2022-09-22 00:26:18,316 - root - INFO - current lr\n",
            "INFO:root:[0.0006362652881629982]\n",
            "2022-09-22 00:26:18,321 - root - INFO - [0.0006362652881629982]\n",
            "INFO:root:train_loss: 0.16235 - train_acc:0.92929\n",
            "2022-09-22 00:26:18,333 - root - INFO - train_loss: 0.16235 - train_acc:0.92929\n"
          ]
        },
        {
          "output_type": "stream",
          "name": "stdout",
          "text": [
            "training on batchs .. 138/200\n"
          ]
        },
        {
          "output_type": "stream",
          "name": "stderr",
          "text": [
            "100%|██████████| 112/112 [00:09<00:00, 12.29it/s]\n",
            "INFO:root:current lr\n",
            "2022-09-22 00:26:27,463 - root - INFO - current lr\n",
            "INFO:root:[0.000160051572263209]\n",
            "2022-09-22 00:26:27,467 - root - INFO - [0.000160051572263209]\n",
            "INFO:root:train_loss: 0.16978 - train_acc:0.93042\n",
            "2022-09-22 00:26:27,479 - root - INFO - train_loss: 0.16978 - train_acc:0.93042\n"
          ]
        },
        {
          "output_type": "stream",
          "name": "stdout",
          "text": [
            "training on batchs .. 139/200\n"
          ]
        },
        {
          "output_type": "stream",
          "name": "stderr",
          "text": [
            "100%|██████████| 112/112 [00:09<00:00, 12.26it/s]\n",
            "INFO:root:current lr\n",
            "2022-09-22 00:26:36,630 - root - INFO - current lr\n",
            "INFO:root:[0.026]\n",
            "2022-09-22 00:26:36,634 - root - INFO - [0.026]\n",
            "INFO:root:train_loss: 0.15745 - train_acc:0.94052\n",
            "2022-09-22 00:26:36,639 - root - INFO - train_loss: 0.15745 - train_acc:0.94052\n"
          ]
        },
        {
          "output_type": "stream",
          "name": "stdout",
          "text": [
            "training on batchs .. 140/200\n"
          ]
        },
        {
          "output_type": "stream",
          "name": "stderr",
          "text": [
            "100%|██████████| 112/112 [00:09<00:00, 12.26it/s]\n",
            "INFO:root:current lr\n",
            "2022-09-22 00:26:45,789 - root - INFO - current lr\n",
            "INFO:root:[0.025839948427736785]\n",
            "2022-09-22 00:26:45,793 - root - INFO - [0.025839948427736785]\n",
            "INFO:root:train_loss: 0.20769 - train_acc:0.91807\n",
            "2022-09-22 00:26:45,800 - root - INFO - train_loss: 0.20769 - train_acc:0.91807\n"
          ]
        },
        {
          "output_type": "stream",
          "name": "stdout",
          "text": [
            "training on batchs .. 141/200\n"
          ]
        },
        {
          "output_type": "stream",
          "name": "stderr",
          "text": [
            "100%|██████████| 112/112 [00:09<00:00, 12.24it/s]\n",
            "INFO:root:current lr\n",
            "2022-09-22 00:26:54,969 - root - INFO - current lr\n",
            "INFO:root:[0.02536373471183699]\n",
            "2022-09-22 00:26:54,978 - root - INFO - [0.02536373471183699]\n",
            "INFO:root:train_loss: 0.38572 - train_acc:0.89562\n",
            "2022-09-22 00:26:54,985 - root - INFO - train_loss: 0.38572 - train_acc:0.89562\n"
          ]
        },
        {
          "output_type": "stream",
          "name": "stdout",
          "text": [
            "training on batchs .. 142/200\n"
          ]
        },
        {
          "output_type": "stream",
          "name": "stderr",
          "text": [
            "100%|██████████| 112/112 [00:09<00:00, 12.29it/s]\n",
            "INFO:root:current lr\n",
            "2022-09-22 00:27:04,113 - root - INFO - current lr\n",
            "INFO:root:[0.024583084814448774]\n",
            "2022-09-22 00:27:04,121 - root - INFO - [0.024583084814448774]\n",
            "INFO:root:train_loss: 0.36977 - train_acc:0.87542\n",
            "2022-09-22 00:27:04,129 - root - INFO - train_loss: 0.36977 - train_acc:0.87542\n"
          ]
        },
        {
          "output_type": "stream",
          "name": "stdout",
          "text": [
            "training on batchs .. 143/200\n"
          ]
        },
        {
          "output_type": "stream",
          "name": "stderr",
          "text": [
            "100%|██████████| 112/112 [00:09<00:00, 12.26it/s]\n",
            "INFO:root:current lr\n",
            "2022-09-22 00:27:13,278 - root - INFO - current lr\n",
            "INFO:root:[0.02351722092687431]\n",
            "2022-09-22 00:27:13,286 - root - INFO - [0.02351722092687431]\n",
            "INFO:root:train_loss: 0.25052 - train_acc:0.90236\n",
            "2022-09-22 00:27:13,295 - root - INFO - train_loss: 0.25052 - train_acc:0.90236\n"
          ]
        },
        {
          "output_type": "stream",
          "name": "stdout",
          "text": [
            "training on batchs .. 144/200\n"
          ]
        },
        {
          "output_type": "stream",
          "name": "stderr",
          "text": [
            "100%|██████████| 112/112 [00:09<00:00, 12.28it/s]\n",
            "INFO:root:current lr\n",
            "2022-09-22 00:27:22,435 - root - INFO - current lr\n",
            "INFO:root:[0.022192388155425118]\n",
            "2022-09-22 00:27:22,439 - root - INFO - [0.022192388155425118]\n",
            "INFO:root:train_loss: 0.28966 - train_acc:0.89226\n",
            "2022-09-22 00:27:22,447 - root - INFO - train_loss: 0.28966 - train_acc:0.89226\n"
          ]
        },
        {
          "output_type": "stream",
          "name": "stdout",
          "text": [
            "training on batchs .. 145/200\n"
          ]
        },
        {
          "output_type": "stream",
          "name": "stderr",
          "text": [
            "100%|██████████| 112/112 [00:09<00:00, 12.28it/s]\n",
            "INFO:root:current lr\n",
            "2022-09-22 00:27:31,583 - root - INFO - current lr\n",
            "INFO:root:[0.020641208279802155]\n",
            "2022-09-22 00:27:31,589 - root - INFO - [0.020641208279802155]\n",
            "INFO:root:train_loss: 0.18047 - train_acc:0.92705\n",
            "2022-09-22 00:27:31,598 - root - INFO - train_loss: 0.18047 - train_acc:0.92705\n"
          ]
        },
        {
          "output_type": "stream",
          "name": "stdout",
          "text": [
            "training on batchs .. 146/200\n"
          ]
        },
        {
          "output_type": "stream",
          "name": "stderr",
          "text": [
            "100%|██████████| 112/112 [00:09<00:00, 12.26it/s]\n",
            "INFO:root:current lr\n",
            "2022-09-22 00:27:40,751 - root - INFO - current lr\n",
            "INFO:root:[0.018901876496614088]\n",
            "2022-09-22 00:27:40,756 - root - INFO - [0.018901876496614088]\n",
            "INFO:root:train_loss: 0.20733 - train_acc:0.91582\n",
            "2022-09-22 00:27:40,763 - root - INFO - train_loss: 0.20733 - train_acc:0.91582\n"
          ]
        },
        {
          "output_type": "stream",
          "name": "stdout",
          "text": [
            "training on batchs .. 147/200\n"
          ]
        },
        {
          "output_type": "stream",
          "name": "stderr",
          "text": [
            "100%|██████████| 112/112 [00:09<00:00, 12.27it/s]\n",
            "INFO:root:current lr\n",
            "2022-09-22 00:27:49,911 - root - INFO - current lr\n",
            "INFO:root:[0.017017220926874303]\n",
            "2022-09-22 00:27:49,917 - root - INFO - [0.017017220926874303]\n",
            "INFO:root:train_loss: 0.20908 - train_acc:0.91695\n",
            "2022-09-22 00:27:49,930 - root - INFO - train_loss: 0.20908 - train_acc:0.91695\n"
          ]
        },
        {
          "output_type": "stream",
          "name": "stdout",
          "text": [
            "training on batchs .. 148/200\n"
          ]
        },
        {
          "output_type": "stream",
          "name": "stderr",
          "text": [
            "100%|██████████| 112/112 [00:09<00:00, 12.23it/s]\n",
            "INFO:root:current lr\n",
            "2022-09-22 00:27:59,106 - root - INFO - current lr\n",
            "INFO:root:[0.015033648045522994]\n",
            "2022-09-22 00:27:59,111 - root - INFO - [0.015033648045522994]\n",
            "INFO:root:train_loss: 0.14514 - train_acc:0.94276\n",
            "2022-09-22 00:27:59,123 - root - INFO - train_loss: 0.14514 - train_acc:0.94276\n"
          ]
        },
        {
          "output_type": "stream",
          "name": "stdout",
          "text": [
            "training on batchs .. 149/200\n"
          ]
        },
        {
          "output_type": "stream",
          "name": "stderr",
          "text": [
            "100%|██████████| 112/112 [00:09<00:00, 12.25it/s]\n",
            "INFO:root:current lr\n",
            "2022-09-22 00:28:08,283 - root - INFO - current lr\n",
            "INFO:root:[0.013]\n",
            "2022-09-22 00:28:08,288 - root - INFO - [0.013]\n",
            "INFO:root:train_loss: 0.16531 - train_acc:0.93378\n",
            "2022-09-22 00:28:08,299 - root - INFO - train_loss: 0.16531 - train_acc:0.93378\n"
          ]
        },
        {
          "output_type": "stream",
          "name": "stdout",
          "text": [
            "training on batchs .. 150/200\n"
          ]
        },
        {
          "output_type": "stream",
          "name": "stderr",
          "text": [
            "100%|██████████| 112/112 [00:09<00:00, 12.28it/s]\n",
            "INFO:root:current lr\n",
            "2022-09-22 00:28:17,437 - root - INFO - current lr\n",
            "INFO:root:[0.010966351954477007]\n",
            "2022-09-22 00:28:17,441 - root - INFO - [0.010966351954477007]\n",
            "INFO:root:train_loss: 0.14279 - train_acc:0.94388\n",
            "2022-09-22 00:28:17,450 - root - INFO - train_loss: 0.14279 - train_acc:0.94388\n"
          ]
        },
        {
          "output_type": "stream",
          "name": "stdout",
          "text": [
            "training on batchs .. 151/200\n"
          ]
        },
        {
          "output_type": "stream",
          "name": "stderr",
          "text": [
            "100%|██████████| 112/112 [00:09<00:00, 12.09it/s]\n",
            "INFO:root:current lr\n",
            "2022-09-22 00:28:26,729 - root - INFO - current lr\n",
            "INFO:root:[0.008982779073125698]\n",
            "2022-09-22 00:28:26,733 - root - INFO - [0.008982779073125698]\n",
            "INFO:root:train_loss: 0.15484 - train_acc:0.94164\n",
            "2022-09-22 00:28:26,741 - root - INFO - train_loss: 0.15484 - train_acc:0.94164\n"
          ]
        },
        {
          "output_type": "stream",
          "name": "stdout",
          "text": [
            "training on batchs .. 152/200\n"
          ]
        },
        {
          "output_type": "stream",
          "name": "stderr",
          "text": [
            "100%|██████████| 112/112 [00:09<00:00, 12.27it/s]\n",
            "INFO:root:current lr\n",
            "2022-09-22 00:28:35,884 - root - INFO - current lr\n",
            "INFO:root:[0.007098123503385878]\n",
            "2022-09-22 00:28:35,888 - root - INFO - [0.007098123503385878]\n",
            "INFO:root:train_loss: 0.15732 - train_acc:0.94276\n",
            "2022-09-22 00:28:35,901 - root - INFO - train_loss: 0.15732 - train_acc:0.94276\n"
          ]
        },
        {
          "output_type": "stream",
          "name": "stdout",
          "text": [
            "training on batchs .. 153/200\n"
          ]
        },
        {
          "output_type": "stream",
          "name": "stderr",
          "text": [
            "100%|██████████| 112/112 [00:09<00:00, 12.29it/s]\n",
            "INFO:root:current lr\n",
            "2022-09-22 00:28:45,029 - root - INFO - current lr\n",
            "INFO:root:[0.005358791720197845]\n",
            "2022-09-22 00:28:45,034 - root - INFO - [0.005358791720197845]\n",
            "INFO:root:train_loss: 0.13482 - train_acc:0.94725\n",
            "2022-09-22 00:28:45,046 - root - INFO - train_loss: 0.13482 - train_acc:0.94725\n"
          ]
        },
        {
          "output_type": "stream",
          "name": "stdout",
          "text": [
            "training on batchs .. 154/200\n"
          ]
        },
        {
          "output_type": "stream",
          "name": "stderr",
          "text": [
            "100%|██████████| 112/112 [00:09<00:00, 12.24it/s]\n",
            "INFO:root:current lr\n",
            "2022-09-22 00:28:54,214 - root - INFO - current lr\n",
            "INFO:root:[0.003807611844574883]\n",
            "2022-09-22 00:28:54,218 - root - INFO - [0.003807611844574883]\n",
            "INFO:root:train_loss: 0.13417 - train_acc:0.95511\n",
            "2022-09-22 00:28:54,231 - root - INFO - train_loss: 0.13417 - train_acc:0.95511\n"
          ]
        },
        {
          "output_type": "stream",
          "name": "stdout",
          "text": [
            "training on batchs .. 155/200\n"
          ]
        },
        {
          "output_type": "stream",
          "name": "stderr",
          "text": [
            "100%|██████████| 112/112 [00:09<00:00, 12.28it/s]\n",
            "INFO:root:current lr\n",
            "2022-09-22 00:29:03,367 - root - INFO - current lr\n",
            "INFO:root:[0.0024827790731256874]\n",
            "2022-09-22 00:29:03,371 - root - INFO - [0.0024827790731256874]\n",
            "INFO:root:train_loss: 0.13662 - train_acc:0.95398\n",
            "2022-09-22 00:29:03,380 - root - INFO - train_loss: 0.13662 - train_acc:0.95398\n"
          ]
        },
        {
          "output_type": "stream",
          "name": "stdout",
          "text": [
            "training on batchs .. 156/200\n"
          ]
        },
        {
          "output_type": "stream",
          "name": "stderr",
          "text": [
            "100%|██████████| 112/112 [00:09<00:00, 12.25it/s]\n",
            "INFO:root:current lr\n",
            "2022-09-22 00:29:12,540 - root - INFO - current lr\n",
            "INFO:root:[0.001416915185551226]\n",
            "2022-09-22 00:29:12,544 - root - INFO - [0.001416915185551226]\n",
            "INFO:root:train_loss: 0.13636 - train_acc:0.95286\n",
            "2022-09-22 00:29:12,557 - root - INFO - train_loss: 0.13636 - train_acc:0.95286\n"
          ]
        },
        {
          "output_type": "stream",
          "name": "stdout",
          "text": [
            "training on batchs .. 157/200\n"
          ]
        },
        {
          "output_type": "stream",
          "name": "stderr",
          "text": [
            "100%|██████████| 112/112 [00:09<00:00, 12.25it/s]\n",
            "INFO:root:current lr\n",
            "2022-09-22 00:29:21,716 - root - INFO - current lr\n",
            "INFO:root:[0.0006362652881629982]\n",
            "2022-09-22 00:29:21,720 - root - INFO - [0.0006362652881629982]\n",
            "INFO:root:train_loss: 0.12681 - train_acc:0.95174\n",
            "2022-09-22 00:29:21,729 - root - INFO - train_loss: 0.12681 - train_acc:0.95174\n"
          ]
        },
        {
          "output_type": "stream",
          "name": "stdout",
          "text": [
            "training on batchs .. 158/200\n"
          ]
        },
        {
          "output_type": "stream",
          "name": "stderr",
          "text": [
            "100%|██████████| 112/112 [00:09<00:00, 12.30it/s]\n",
            "INFO:root:current lr\n",
            "2022-09-22 00:29:30,850 - root - INFO - current lr\n",
            "INFO:root:[0.000160051572263209]\n",
            "2022-09-22 00:29:30,857 - root - INFO - [0.000160051572263209]\n",
            "INFO:root:train_loss: 0.12473 - train_acc:0.95062\n",
            "2022-09-22 00:29:30,870 - root - INFO - train_loss: 0.12473 - train_acc:0.95062\n"
          ]
        },
        {
          "output_type": "stream",
          "name": "stdout",
          "text": [
            "training on batchs .. 159/200\n"
          ]
        },
        {
          "output_type": "stream",
          "name": "stderr",
          "text": [
            "100%|██████████| 112/112 [00:09<00:00, 12.27it/s]\n",
            "INFO:root:current lr\n",
            "2022-09-22 00:29:40,014 - root - INFO - current lr\n",
            "INFO:root:[0.026]\n",
            "2022-09-22 00:29:40,018 - root - INFO - [0.026]\n",
            "INFO:root:train_loss: 0.12613 - train_acc:0.94837\n",
            "2022-09-22 00:29:40,027 - root - INFO - train_loss: 0.12613 - train_acc:0.94837\n"
          ]
        },
        {
          "output_type": "stream",
          "name": "stdout",
          "text": [
            "training on batchs .. 160/200\n"
          ]
        },
        {
          "output_type": "stream",
          "name": "stderr",
          "text": [
            "100%|██████████| 112/112 [00:09<00:00, 12.29it/s]\n",
            "INFO:root:current lr\n",
            "2022-09-22 00:29:49,163 - root - INFO - current lr\n",
            "INFO:root:[0.02583994842773679]\n",
            "2022-09-22 00:29:49,167 - root - INFO - [0.02583994842773679]\n",
            "INFO:root:train_loss: 0.18305 - train_acc:0.92480\n",
            "2022-09-22 00:29:49,178 - root - INFO - train_loss: 0.18305 - train_acc:0.92480\n"
          ]
        },
        {
          "output_type": "stream",
          "name": "stdout",
          "text": [
            "training on batchs .. 161/200\n"
          ]
        },
        {
          "output_type": "stream",
          "name": "stderr",
          "text": [
            "100%|██████████| 112/112 [00:09<00:00, 12.23it/s]\n",
            "INFO:root:current lr\n",
            "2022-09-22 00:29:58,353 - root - INFO - current lr\n",
            "INFO:root:[0.025363734711836998]\n",
            "2022-09-22 00:29:58,356 - root - INFO - [0.025363734711836998]\n",
            "INFO:root:train_loss: 0.22140 - train_acc:0.91695\n",
            "2022-09-22 00:29:58,368 - root - INFO - train_loss: 0.22140 - train_acc:0.91695\n"
          ]
        },
        {
          "output_type": "stream",
          "name": "stdout",
          "text": [
            "training on batchs .. 162/200\n"
          ]
        },
        {
          "output_type": "stream",
          "name": "stderr",
          "text": [
            "100%|██████████| 112/112 [00:09<00:00, 12.26it/s]\n",
            "INFO:root:current lr\n",
            "2022-09-22 00:30:07,520 - root - INFO - current lr\n",
            "INFO:root:[0.02458308481444879]\n",
            "2022-09-22 00:30:07,524 - root - INFO - [0.02458308481444879]\n",
            "INFO:root:train_loss: 0.38096 - train_acc:0.85859\n",
            "2022-09-22 00:30:07,538 - root - INFO - train_loss: 0.38096 - train_acc:0.85859\n"
          ]
        },
        {
          "output_type": "stream",
          "name": "stdout",
          "text": [
            "training on batchs .. 163/200\n"
          ]
        },
        {
          "output_type": "stream",
          "name": "stderr",
          "text": [
            "100%|██████████| 112/112 [00:09<00:00, 12.30it/s]\n",
            "INFO:root:current lr\n",
            "2022-09-22 00:30:16,664 - root - INFO - current lr\n",
            "INFO:root:[0.02351722092687431]\n",
            "2022-09-22 00:30:16,668 - root - INFO - [0.02351722092687431]\n",
            "INFO:root:train_loss: 0.33129 - train_acc:0.88777\n",
            "2022-09-22 00:30:16,679 - root - INFO - train_loss: 0.33129 - train_acc:0.88777\n"
          ]
        },
        {
          "output_type": "stream",
          "name": "stdout",
          "text": [
            "training on batchs .. 164/200\n"
          ]
        },
        {
          "output_type": "stream",
          "name": "stderr",
          "text": [
            "100%|██████████| 112/112 [00:09<00:00, 12.28it/s]\n",
            "INFO:root:current lr\n",
            "2022-09-22 00:30:25,818 - root - INFO - current lr\n",
            "INFO:root:[0.022192388155425118]\n",
            "2022-09-22 00:30:25,826 - root - INFO - [0.022192388155425118]\n",
            "INFO:root:train_loss: 0.19317 - train_acc:0.93154\n",
            "2022-09-22 00:30:25,836 - root - INFO - train_loss: 0.19317 - train_acc:0.93154\n"
          ]
        },
        {
          "output_type": "stream",
          "name": "stdout",
          "text": [
            "training on batchs .. 165/200\n"
          ]
        },
        {
          "output_type": "stream",
          "name": "stderr",
          "text": [
            "100%|██████████| 112/112 [00:09<00:00, 12.08it/s]\n",
            "INFO:root:current lr\n",
            "2022-09-22 00:30:35,125 - root - INFO - current lr\n",
            "INFO:root:[0.020641208279802155]\n",
            "2022-09-22 00:30:35,129 - root - INFO - [0.020641208279802155]\n",
            "INFO:root:train_loss: 0.17726 - train_acc:0.93266\n",
            "2022-09-22 00:30:35,138 - root - INFO - train_loss: 0.17726 - train_acc:0.93266\n"
          ]
        },
        {
          "output_type": "stream",
          "name": "stdout",
          "text": [
            "training on batchs .. 166/200\n"
          ]
        },
        {
          "output_type": "stream",
          "name": "stderr",
          "text": [
            "100%|██████████| 112/112 [00:09<00:00, 12.26it/s]\n",
            "INFO:root:current lr\n",
            "2022-09-22 00:30:44,288 - root - INFO - current lr\n",
            "INFO:root:[0.018901876496614123]\n",
            "2022-09-22 00:30:44,292 - root - INFO - [0.018901876496614123]\n",
            "INFO:root:train_loss: 0.20282 - train_acc:0.92480\n",
            "2022-09-22 00:30:44,297 - root - INFO - train_loss: 0.20282 - train_acc:0.92480\n"
          ]
        },
        {
          "output_type": "stream",
          "name": "stdout",
          "text": [
            "training on batchs .. 167/200\n"
          ]
        },
        {
          "output_type": "stream",
          "name": "stderr",
          "text": [
            "100%|██████████| 112/112 [00:09<00:00, 12.22it/s]\n",
            "INFO:root:current lr\n",
            "2022-09-22 00:30:53,483 - root - INFO - current lr\n",
            "INFO:root:[0.01701722092687434]\n",
            "2022-09-22 00:30:53,488 - root - INFO - [0.01701722092687434]\n",
            "INFO:root:train_loss: 0.20578 - train_acc:0.92368\n",
            "2022-09-22 00:30:53,499 - root - INFO - train_loss: 0.20578 - train_acc:0.92368\n"
          ]
        },
        {
          "output_type": "stream",
          "name": "stdout",
          "text": [
            "training on batchs .. 168/200\n"
          ]
        },
        {
          "output_type": "stream",
          "name": "stderr",
          "text": [
            "100%|██████████| 112/112 [00:09<00:00, 12.27it/s]\n",
            "INFO:root:current lr\n",
            "2022-09-22 00:31:02,641 - root - INFO - current lr\n",
            "INFO:root:[0.01503364804552303]\n",
            "2022-09-22 00:31:02,651 - root - INFO - [0.01503364804552303]\n",
            "INFO:root:train_loss: 0.14864 - train_acc:0.94388\n",
            "2022-09-22 00:31:02,658 - root - INFO - train_loss: 0.14864 - train_acc:0.94388\n"
          ]
        },
        {
          "output_type": "stream",
          "name": "stdout",
          "text": [
            "training on batchs .. 169/200\n"
          ]
        },
        {
          "output_type": "stream",
          "name": "stderr",
          "text": [
            "100%|██████████| 112/112 [00:09<00:00, 12.27it/s]\n",
            "INFO:root:current lr\n",
            "2022-09-22 00:31:11,805 - root - INFO - current lr\n",
            "INFO:root:[0.013]\n",
            "2022-09-22 00:31:11,809 - root - INFO - [0.013]\n",
            "INFO:root:train_loss: 0.16234 - train_acc:0.93154\n",
            "2022-09-22 00:31:11,823 - root - INFO - train_loss: 0.16234 - train_acc:0.93154\n"
          ]
        },
        {
          "output_type": "stream",
          "name": "stdout",
          "text": [
            "training on batchs .. 170/200\n"
          ]
        },
        {
          "output_type": "stream",
          "name": "stderr",
          "text": [
            "100%|██████████| 112/112 [00:09<00:00, 12.19it/s]\n",
            "INFO:root:current lr\n",
            "2022-09-22 00:31:21,027 - root - INFO - current lr\n",
            "INFO:root:[0.010966351954477007]\n",
            "2022-09-22 00:31:21,032 - root - INFO - [0.010966351954477007]\n",
            "INFO:root:train_loss: 0.18199 - train_acc:0.93378\n",
            "2022-09-22 00:31:21,038 - root - INFO - train_loss: 0.18199 - train_acc:0.93378\n"
          ]
        },
        {
          "output_type": "stream",
          "name": "stdout",
          "text": [
            "training on batchs .. 171/200\n"
          ]
        },
        {
          "output_type": "stream",
          "name": "stderr",
          "text": [
            "100%|██████████| 112/112 [00:09<00:00, 12.24it/s]\n",
            "INFO:root:current lr\n",
            "2022-09-22 00:31:30,204 - root - INFO - current lr\n",
            "INFO:root:[0.008982779073125698]\n",
            "2022-09-22 00:31:30,209 - root - INFO - [0.008982779073125698]\n",
            "INFO:root:train_loss: 0.14085 - train_acc:0.95062\n",
            "2022-09-22 00:31:30,219 - root - INFO - train_loss: 0.14085 - train_acc:0.95062\n"
          ]
        },
        {
          "output_type": "stream",
          "name": "stdout",
          "text": [
            "training on batchs .. 172/200\n"
          ]
        },
        {
          "output_type": "stream",
          "name": "stderr",
          "text": [
            "100%|██████████| 112/112 [00:09<00:00, 12.22it/s]\n",
            "INFO:root:current lr\n",
            "2022-09-22 00:31:39,406 - root - INFO - current lr\n",
            "INFO:root:[0.007098123503385912]\n",
            "2022-09-22 00:31:39,410 - root - INFO - [0.007098123503385912]\n",
            "INFO:root:train_loss: 0.13229 - train_acc:0.94725\n",
            "2022-09-22 00:31:39,420 - root - INFO - train_loss: 0.13229 - train_acc:0.94725\n"
          ]
        },
        {
          "output_type": "stream",
          "name": "stdout",
          "text": [
            "training on batchs .. 173/200\n"
          ]
        },
        {
          "output_type": "stream",
          "name": "stderr",
          "text": [
            "100%|██████████| 112/112 [00:09<00:00, 12.26it/s]\n",
            "INFO:root:current lr\n",
            "2022-09-22 00:31:48,571 - root - INFO - current lr\n",
            "INFO:root:[0.0053587917201978735]\n",
            "2022-09-22 00:31:48,576 - root - INFO - [0.0053587917201978735]\n",
            "INFO:root:train_loss: 0.12349 - train_acc:0.95847\n",
            "2022-09-22 00:31:48,586 - root - INFO - train_loss: 0.12349 - train_acc:0.95847\n"
          ]
        },
        {
          "output_type": "stream",
          "name": "stdout",
          "text": [
            "training on batchs .. 174/200\n"
          ]
        },
        {
          "output_type": "stream",
          "name": "stderr",
          "text": [
            "100%|██████████| 112/112 [00:09<00:00, 12.19it/s]\n",
            "INFO:root:current lr\n",
            "2022-09-22 00:31:57,788 - root - INFO - current lr\n",
            "INFO:root:[0.003807611844574883]\n",
            "2022-09-22 00:31:57,791 - root - INFO - [0.003807611844574883]\n",
            "INFO:root:train_loss: 0.10554 - train_acc:0.95735\n",
            "2022-09-22 00:31:57,801 - root - INFO - train_loss: 0.10554 - train_acc:0.95735\n"
          ]
        },
        {
          "output_type": "stream",
          "name": "stdout",
          "text": [
            "training on batchs .. 175/200\n"
          ]
        },
        {
          "output_type": "stream",
          "name": "stderr",
          "text": [
            "100%|██████████| 112/112 [00:09<00:00, 12.26it/s]\n",
            "INFO:root:current lr\n",
            "2022-09-22 00:32:06,952 - root - INFO - current lr\n",
            "INFO:root:[0.002482779073125667]\n",
            "2022-09-22 00:32:06,956 - root - INFO - [0.002482779073125667]\n",
            "INFO:root:train_loss: 0.12150 - train_acc:0.95847\n",
            "2022-09-22 00:32:06,969 - root - INFO - train_loss: 0.12150 - train_acc:0.95847\n"
          ]
        },
        {
          "output_type": "stream",
          "name": "stdout",
          "text": [
            "training on batchs .. 176/200\n"
          ]
        },
        {
          "output_type": "stream",
          "name": "stderr",
          "text": [
            "100%|██████████| 112/112 [00:09<00:00, 12.23it/s]\n",
            "INFO:root:current lr\n",
            "2022-09-22 00:32:16,143 - root - INFO - current lr\n",
            "INFO:root:[0.001416915185551226]\n",
            "2022-09-22 00:32:16,148 - root - INFO - [0.001416915185551226]\n",
            "INFO:root:train_loss: 0.10335 - train_acc:0.96296\n",
            "2022-09-22 00:32:16,155 - root - INFO - train_loss: 0.10335 - train_acc:0.96296\n"
          ]
        },
        {
          "output_type": "stream",
          "name": "stdout",
          "text": [
            "training on batchs .. 177/200\n"
          ]
        },
        {
          "output_type": "stream",
          "name": "stderr",
          "text": [
            "100%|██████████| 112/112 [00:09<00:00, 12.16it/s]\n",
            "INFO:root:current lr\n",
            "2022-09-22 00:32:25,382 - root - INFO - current lr\n",
            "INFO:root:[0.0006362652881629982]\n",
            "2022-09-22 00:32:25,387 - root - INFO - [0.0006362652881629982]\n",
            "INFO:root:train_loss: 0.10899 - train_acc:0.95735\n",
            "2022-09-22 00:32:25,397 - root - INFO - train_loss: 0.10899 - train_acc:0.95735\n"
          ]
        },
        {
          "output_type": "stream",
          "name": "stdout",
          "text": [
            "training on batchs .. 178/200\n"
          ]
        },
        {
          "output_type": "stream",
          "name": "stderr",
          "text": [
            "100%|██████████| 112/112 [00:09<00:00, 12.14it/s]\n",
            "INFO:root:current lr\n",
            "2022-09-22 00:32:34,638 - root - INFO - current lr\n",
            "INFO:root:[0.00016005157226321476]\n",
            "2022-09-22 00:32:34,643 - root - INFO - [0.00016005157226321476]\n",
            "INFO:root:train_loss: 0.10734 - train_acc:0.96072\n",
            "2022-09-22 00:32:34,654 - root - INFO - train_loss: 0.10734 - train_acc:0.96072\n"
          ]
        },
        {
          "output_type": "stream",
          "name": "stdout",
          "text": [
            "training on batchs .. 179/200\n"
          ]
        },
        {
          "output_type": "stream",
          "name": "stderr",
          "text": [
            "100%|██████████| 112/112 [00:09<00:00, 12.23it/s]\n",
            "INFO:root:current lr\n",
            "2022-09-22 00:32:43,830 - root - INFO - current lr\n",
            "INFO:root:[0.026]\n",
            "2022-09-22 00:32:43,837 - root - INFO - [0.026]\n",
            "INFO:root:train_loss: 0.12118 - train_acc:0.95623\n",
            "2022-09-22 00:32:43,844 - root - INFO - train_loss: 0.12118 - train_acc:0.95623\n"
          ]
        },
        {
          "output_type": "stream",
          "name": "stdout",
          "text": [
            "training on batchs .. 180/200\n"
          ]
        },
        {
          "output_type": "stream",
          "name": "stderr",
          "text": [
            "100%|██████████| 112/112 [00:09<00:00, 12.03it/s]\n",
            "INFO:root:current lr\n",
            "2022-09-22 00:32:53,166 - root - INFO - current lr\n",
            "INFO:root:[0.025839948427736785]\n",
            "2022-09-22 00:32:53,170 - root - INFO - [0.025839948427736785]\n",
            "INFO:root:train_loss: 0.18740 - train_acc:0.92144\n",
            "2022-09-22 00:32:53,181 - root - INFO - train_loss: 0.18740 - train_acc:0.92144\n"
          ]
        },
        {
          "output_type": "stream",
          "name": "stdout",
          "text": [
            "training on batchs .. 181/200\n"
          ]
        },
        {
          "output_type": "stream",
          "name": "stderr",
          "text": [
            "100%|██████████| 112/112 [00:09<00:00, 12.19it/s]\n",
            "INFO:root:current lr\n",
            "2022-09-22 00:33:02,385 - root - INFO - current lr\n",
            "INFO:root:[0.025363734711836998]\n",
            "2022-09-22 00:33:02,389 - root - INFO - [0.025363734711836998]\n",
            "INFO:root:train_loss: 0.24943 - train_acc:0.92817\n",
            "2022-09-22 00:33:02,395 - root - INFO - train_loss: 0.24943 - train_acc:0.92817\n"
          ]
        },
        {
          "output_type": "stream",
          "name": "stdout",
          "text": [
            "training on batchs .. 182/200\n"
          ]
        },
        {
          "output_type": "stream",
          "name": "stderr",
          "text": [
            "100%|██████████| 112/112 [00:09<00:00, 12.22it/s]\n",
            "INFO:root:current lr\n",
            "2022-09-22 00:33:11,573 - root - INFO - current lr\n",
            "INFO:root:[0.024583084814448774]\n",
            "2022-09-22 00:33:11,579 - root - INFO - [0.024583084814448774]\n",
            "INFO:root:train_loss: 0.22016 - train_acc:0.93266\n",
            "2022-09-22 00:33:11,589 - root - INFO - train_loss: 0.22016 - train_acc:0.93266\n"
          ]
        },
        {
          "output_type": "stream",
          "name": "stdout",
          "text": [
            "training on batchs .. 183/200\n"
          ]
        },
        {
          "output_type": "stream",
          "name": "stderr",
          "text": [
            "100%|██████████| 112/112 [00:09<00:00, 12.18it/s]\n",
            "INFO:root:current lr\n",
            "2022-09-22 00:33:20,803 - root - INFO - current lr\n",
            "INFO:root:[0.023517220926874333]\n",
            "2022-09-22 00:33:20,807 - root - INFO - [0.023517220926874333]\n",
            "INFO:root:train_loss: 0.26080 - train_acc:0.92705\n",
            "2022-09-22 00:33:20,818 - root - INFO - train_loss: 0.26080 - train_acc:0.92705\n"
          ]
        },
        {
          "output_type": "stream",
          "name": "stdout",
          "text": [
            "training on batchs .. 184/200\n"
          ]
        },
        {
          "output_type": "stream",
          "name": "stderr",
          "text": [
            "100%|██████████| 112/112 [00:09<00:00, 12.17it/s]\n",
            "INFO:root:current lr\n",
            "2022-09-22 00:33:30,039 - root - INFO - current lr\n",
            "INFO:root:[0.022192388155425118]\n",
            "2022-09-22 00:33:30,044 - root - INFO - [0.022192388155425118]\n",
            "INFO:root:train_loss: 0.22074 - train_acc:0.92705\n",
            "2022-09-22 00:33:30,056 - root - INFO - train_loss: 0.22074 - train_acc:0.92705\n"
          ]
        },
        {
          "output_type": "stream",
          "name": "stdout",
          "text": [
            "training on batchs .. 185/200\n"
          ]
        },
        {
          "output_type": "stream",
          "name": "stderr",
          "text": [
            "100%|██████████| 112/112 [00:09<00:00, 12.21it/s]\n",
            "INFO:root:current lr\n",
            "2022-09-22 00:33:39,248 - root - INFO - current lr\n",
            "INFO:root:[0.020641208279802127]\n",
            "2022-09-22 00:33:39,252 - root - INFO - [0.020641208279802127]\n",
            "INFO:root:train_loss: 0.15044 - train_acc:0.95062\n",
            "2022-09-22 00:33:39,264 - root - INFO - train_loss: 0.15044 - train_acc:0.95062\n"
          ]
        },
        {
          "output_type": "stream",
          "name": "stdout",
          "text": [
            "training on batchs .. 186/200\n"
          ]
        },
        {
          "output_type": "stream",
          "name": "stderr",
          "text": [
            "100%|██████████| 112/112 [00:09<00:00, 12.18it/s]\n",
            "INFO:root:current lr\n",
            "2022-09-22 00:33:48,479 - root - INFO - current lr\n",
            "INFO:root:[0.018901876496614123]\n",
            "2022-09-22 00:33:48,486 - root - INFO - [0.018901876496614123]\n",
            "INFO:root:train_loss: 0.16952 - train_acc:0.94164\n",
            "2022-09-22 00:33:48,496 - root - INFO - train_loss: 0.16952 - train_acc:0.94164\n"
          ]
        },
        {
          "output_type": "stream",
          "name": "stdout",
          "text": [
            "training on batchs .. 187/200\n"
          ]
        },
        {
          "output_type": "stream",
          "name": "stderr",
          "text": [
            "100%|██████████| 112/112 [00:09<00:00, 12.18it/s]\n",
            "INFO:root:current lr\n",
            "2022-09-22 00:33:57,710 - root - INFO - current lr\n",
            "INFO:root:[0.017017220926874303]\n",
            "2022-09-22 00:33:57,718 - root - INFO - [0.017017220926874303]\n",
            "INFO:root:train_loss: 0.16705 - train_acc:0.94725\n",
            "2022-09-22 00:33:57,727 - root - INFO - train_loss: 0.16705 - train_acc:0.94725\n"
          ]
        },
        {
          "output_type": "stream",
          "name": "stdout",
          "text": [
            "training on batchs .. 188/200\n"
          ]
        },
        {
          "output_type": "stream",
          "name": "stderr",
          "text": [
            "100%|██████████| 112/112 [00:09<00:00, 12.20it/s]\n",
            "INFO:root:current lr\n",
            "2022-09-22 00:34:06,921 - root - INFO - current lr\n",
            "INFO:root:[0.01503364804552303]\n",
            "2022-09-22 00:34:06,926 - root - INFO - [0.01503364804552303]\n",
            "INFO:root:train_loss: 0.16150 - train_acc:0.94949\n",
            "2022-09-22 00:34:06,935 - root - INFO - train_loss: 0.16150 - train_acc:0.94949\n"
          ]
        },
        {
          "output_type": "stream",
          "name": "stdout",
          "text": [
            "training on batchs .. 189/200\n"
          ]
        },
        {
          "output_type": "stream",
          "name": "stderr",
          "text": [
            "100%|██████████| 112/112 [00:09<00:00, 12.20it/s]\n",
            "INFO:root:current lr\n",
            "2022-09-22 00:34:16,132 - root - INFO - current lr\n",
            "INFO:root:[0.013]\n",
            "2022-09-22 00:34:16,136 - root - INFO - [0.013]\n",
            "INFO:root:train_loss: 0.13797 - train_acc:0.94949\n",
            "2022-09-22 00:34:16,144 - root - INFO - train_loss: 0.13797 - train_acc:0.94949\n"
          ]
        },
        {
          "output_type": "stream",
          "name": "stdout",
          "text": [
            "training on batchs .. 190/200\n"
          ]
        },
        {
          "output_type": "stream",
          "name": "stderr",
          "text": [
            "100%|██████████| 112/112 [00:09<00:00, 12.19it/s]\n",
            "INFO:root:current lr\n",
            "2022-09-22 00:34:25,353 - root - INFO - current lr\n",
            "INFO:root:[0.010966351954477042]\n",
            "2022-09-22 00:34:25,358 - root - INFO - [0.010966351954477042]\n",
            "INFO:root:train_loss: 0.14524 - train_acc:0.93939\n",
            "2022-09-22 00:34:25,368 - root - INFO - train_loss: 0.14524 - train_acc:0.93939\n"
          ]
        },
        {
          "output_type": "stream",
          "name": "stdout",
          "text": [
            "training on batchs .. 191/200\n"
          ]
        },
        {
          "output_type": "stream",
          "name": "stderr",
          "text": [
            "100%|██████████| 112/112 [00:09<00:00, 12.12it/s]\n",
            "INFO:root:current lr\n",
            "2022-09-22 00:34:34,630 - root - INFO - current lr\n",
            "INFO:root:[0.008982779073125698]\n",
            "2022-09-22 00:34:34,637 - root - INFO - [0.008982779073125698]\n",
            "INFO:root:train_loss: 0.13802 - train_acc:0.94949\n",
            "2022-09-22 00:34:34,642 - root - INFO - train_loss: 0.13802 - train_acc:0.94949\n"
          ]
        },
        {
          "output_type": "stream",
          "name": "stdout",
          "text": [
            "training on batchs .. 192/200\n"
          ]
        },
        {
          "output_type": "stream",
          "name": "stderr",
          "text": [
            "100%|██████████| 112/112 [00:09<00:00, 12.13it/s]\n",
            "INFO:root:current lr\n",
            "2022-09-22 00:34:43,888 - root - INFO - current lr\n",
            "INFO:root:[0.007098123503385878]\n",
            "2022-09-22 00:34:43,892 - root - INFO - [0.007098123503385878]\n",
            "INFO:root:train_loss: 0.13434 - train_acc:0.94725\n",
            "2022-09-22 00:34:43,901 - root - INFO - train_loss: 0.13434 - train_acc:0.94725\n"
          ]
        },
        {
          "output_type": "stream",
          "name": "stdout",
          "text": [
            "training on batchs .. 193/200\n"
          ]
        },
        {
          "output_type": "stream",
          "name": "stderr",
          "text": [
            "100%|██████████| 112/112 [00:09<00:00, 12.17it/s]\n",
            "INFO:root:current lr\n",
            "2022-09-22 00:34:53,120 - root - INFO - current lr\n",
            "INFO:root:[0.0053587917201978735]\n",
            "2022-09-22 00:34:53,126 - root - INFO - [0.0053587917201978735]\n",
            "INFO:root:train_loss: 0.13340 - train_acc:0.95286\n",
            "2022-09-22 00:34:53,138 - root - INFO - train_loss: 0.13340 - train_acc:0.95286\n"
          ]
        },
        {
          "output_type": "stream",
          "name": "stdout",
          "text": [
            "training on batchs .. 194/200\n"
          ]
        },
        {
          "output_type": "stream",
          "name": "stderr",
          "text": [
            "100%|██████████| 112/112 [00:09<00:00, 11.96it/s]\n",
            "INFO:root:current lr\n",
            "2022-09-22 00:35:02,518 - root - INFO - current lr\n",
            "INFO:root:[0.003807611844574883]\n",
            "2022-09-22 00:35:02,524 - root - INFO - [0.003807611844574883]\n",
            "INFO:root:train_loss: 0.12245 - train_acc:0.95062\n",
            "2022-09-22 00:35:02,535 - root - INFO - train_loss: 0.12245 - train_acc:0.95062\n"
          ]
        },
        {
          "output_type": "stream",
          "name": "stdout",
          "text": [
            "training on batchs .. 195/200\n"
          ]
        },
        {
          "output_type": "stream",
          "name": "stderr",
          "text": [
            "100%|██████████| 112/112 [00:09<00:00, 12.18it/s]\n",
            "INFO:root:current lr\n",
            "2022-09-22 00:35:11,743 - root - INFO - current lr\n",
            "INFO:root:[0.0024827790731257117]\n",
            "2022-09-22 00:35:11,753 - root - INFO - [0.0024827790731257117]\n",
            "INFO:root:train_loss: 0.10946 - train_acc:0.96296\n",
            "2022-09-22 00:35:11,761 - root - INFO - train_loss: 0.10946 - train_acc:0.96296\n"
          ]
        },
        {
          "output_type": "stream",
          "name": "stdout",
          "text": [
            "training on batchs .. 196/200\n"
          ]
        },
        {
          "output_type": "stream",
          "name": "stderr",
          "text": [
            "100%|██████████| 112/112 [00:09<00:00, 12.15it/s]\n",
            "INFO:root:current lr\n",
            "2022-09-22 00:35:20,991 - root - INFO - current lr\n",
            "INFO:root:[0.001416915185551226]\n",
            "2022-09-22 00:35:20,998 - root - INFO - [0.001416915185551226]\n",
            "INFO:root:train_loss: 0.12214 - train_acc:0.95286\n",
            "2022-09-22 00:35:21,005 - root - INFO - train_loss: 0.12214 - train_acc:0.95286\n"
          ]
        },
        {
          "output_type": "stream",
          "name": "stdout",
          "text": [
            "training on batchs .. 197/200\n"
          ]
        },
        {
          "output_type": "stream",
          "name": "stderr",
          "text": [
            "100%|██████████| 112/112 [00:09<00:00, 12.16it/s]\n",
            "INFO:root:current lr\n",
            "2022-09-22 00:35:30,235 - root - INFO - current lr\n",
            "INFO:root:[0.0006362652881629982]\n",
            "2022-09-22 00:35:30,240 - root - INFO - [0.0006362652881629982]\n",
            "INFO:root:train_loss: 0.11364 - train_acc:0.95960\n",
            "2022-09-22 00:35:30,254 - root - INFO - train_loss: 0.11364 - train_acc:0.95960\n"
          ]
        },
        {
          "output_type": "stream",
          "name": "stdout",
          "text": [
            "training on batchs .. 198/200\n"
          ]
        },
        {
          "output_type": "stream",
          "name": "stderr",
          "text": [
            "100%|██████████| 112/112 [00:09<00:00, 12.18it/s]\n",
            "INFO:root:current lr\n",
            "2022-09-22 00:35:39,469 - root - INFO - current lr\n",
            "INFO:root:[0.00016005157226321476]\n",
            "2022-09-22 00:35:39,474 - root - INFO - [0.00016005157226321476]\n",
            "INFO:root:train_loss: 0.11334 - train_acc:0.95623\n",
            "2022-09-22 00:35:39,484 - root - INFO - train_loss: 0.11334 - train_acc:0.95623\n"
          ]
        },
        {
          "output_type": "stream",
          "name": "stdout",
          "text": [
            "training on batchs .. 199/200\n"
          ]
        },
        {
          "output_type": "stream",
          "name": "stderr",
          "text": [
            "100%|██████████| 112/112 [00:09<00:00, 12.17it/s]\n",
            "INFO:root:current lr\n",
            "2022-09-22 00:35:48,701 - root - INFO - current lr\n",
            "INFO:root:[0.0]\n",
            "2022-09-22 00:35:48,710 - root - INFO - [0.0]\n",
            "INFO:root:train_loss: 0.10635 - train_acc:0.95960\n",
            "2022-09-22 00:35:48,719 - root - INFO - train_loss: 0.10635 - train_acc:0.95960\n"
          ]
        },
        {
          "output_type": "display_data",
          "data": {
            "text/plain": [
              "<Figure size 432x288 with 1 Axes>"
            ],
            "image/png": "[encoded data removed]"
          },
          "metadata": {
            "needs_background": "light"
          }
        },
        {
          "output_type": "stream",
          "name": "stdout",
          "text": [
            "model save done\n"
          ]
        },
        {
          "output_type": "display_data",
          "data": {
            "text/plain": [
              "<Figure size 432x288 with 0 Axes>"
            ]
          },
          "metadata": {}
        }
      ]
    }
  ]
}